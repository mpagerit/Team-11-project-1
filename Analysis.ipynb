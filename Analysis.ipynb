{
 "cells": [
  {
   "cell_type": "markdown",
   "metadata": {},
   "source": [
    "# Movie Data Analysis"
   ]
  },
  {
   "cell_type": "markdown",
   "metadata": {},
   "source": [
    "## Sources for definitions:"
   ]
  },
  {
   "cell_type": "markdown",
   "metadata": {},
   "source": [
    "Summer movie season definition:\n",
    "    \n",
    "\n",
    "![title](img/id4.png)"
   ]
  },
  {
   "cell_type": "markdown",
   "metadata": {},
   "source": [
    "Dump months definition: https://en.wikipedia.org/wiki/Dump_months\n",
    "        \n",
    "![title](img/john_wick.png)"
   ]
  },
  {
   "cell_type": "markdown",
   "metadata": {},
   "source": [
    "Oscar season Definition: https://en.wikipedia.org/wiki/Oscar_season#:~:text=Oscar%20season%20usually%20begins%20in,and%20dependent%20on%20the%20year\n",
    "\n",
    "![title](img/oscars.png)"
   ]
  },
  {
   "cell_type": "code",
   "execution_count": null,
   "metadata": {
    "slideshow": {
     "slide_type": "skip"
    }
   },
   "outputs": [],
   "source": [
    "#John's Code Start's Here"
   ]
  },
  {
   "cell_type": "code",
   "execution_count": null,
   "metadata": {
    "slideshow": {
     "slide_type": "slide"
    }
   },
   "outputs": [],
   "source": [
    "# Dependencies\n",
    "import pandas as pd\n",
    "import matplotlib.pyplot as plt\n",
    "import scipy.stats as sts\n",
    "import numpy as np\n",
    "import warnings\n",
    "warnings.filterwarnings('ignore')\n",
    "\n",
    "#Load Data\n",
    "TheData_df = pd.read_csv('DataFiles/FINAL_CLEANED_DF.csv')\n",
    "Data = TheData_df\n",
    "\n",
    "#Run .Head()\n",
    "Data.head()"
   ]
  },
  {
   "cell_type": "code",
   "execution_count": null,
   "metadata": {
    "slideshow": {
     "slide_type": "subslide"
    }
   },
   "outputs": [],
   "source": [
    "#Define Data Set Groups\n",
    "d = {'Month Released (Domestic)': [1, 2, 3, 4, 5, 6, 7, 8, 9, 10, 11, 12], \n",
    "     'Data Set': ['Winter Dump Months', \n",
    "                    'Winter Dump Months', \n",
    "                    'Other Months', \n",
    "                    'Other Months', \n",
    "                    'Summer Blockbusters',\n",
    "                    'Summer Blockbusters',\n",
    "                    'Summer Blockbusters',\n",
    "                    'Summer Dump Months',\n",
    "                    'Summer Dump Months',\n",
    "                    'Other Months',\n",
    "                    'Oscar Season',\n",
    "                    'Oscar Season',\n",
    "                   ]}\n",
    "DataSets_df = pd.DataFrame(data=d)\n",
    "DataSets_df"
   ]
  },
  {
   "cell_type": "code",
   "execution_count": null,
   "metadata": {
    "slideshow": {
     "slide_type": "slide"
    }
   },
   "outputs": [],
   "source": [
    "SummData = pd.merge(Data, DataSets_df, \n",
    "                      how=\"left\", on='Month Released (Domestic)')\n",
    "SummData.head()"
   ]
  },
  {
   "cell_type": "code",
   "execution_count": null,
   "metadata": {
    "slideshow": {
     "slide_type": "slide"
    }
   },
   "outputs": [],
   "source": [
    "Summary_df = SummData.groupby(\"Data Set\").agg({'Title':'count', \n",
    "                                                'Infl. Adj. Dom. Box Office':'mean'#, \n",
    "                                                #'Oscars Won':'count' \n",
    "                                              })\n",
    "\n",
    "Summary_df.head()\n",
    "\n",
    "#include in final data?"
   ]
  },
  {
   "cell_type": "code",
   "execution_count": null,
   "metadata": {
    "slideshow": {
     "slide_type": "skip"
    }
   },
   "outputs": [],
   "source": [
    "# #Make Box Office Look Good\n",
    "# Summary_df['Infl. Adj. Dom. Box Office'] = Summary_df[\n",
    "#     'Infl. Adj. Dom. Box Office'].astype(\n",
    "#      float).map(\"${:,.2f}\".format)\n",
    "\n",
    "# Summary_df\n",
    "# #Need to add Average to \"Inflation Adjusted Box Office\""
   ]
  },
  {
   "cell_type": "markdown",
   "metadata": {},
   "source": [
    "![title](img/term2.png)"
   ]
  },
  {
   "cell_type": "markdown",
   "metadata": {},
   "source": [
    "## Hypothesis 1\n",
    "* Hypothesis: Movies released in the summer months (May through August) make more money than movies released at other times of the year. \n",
    "* Null Hypothesis: Movies released in the summer months (May through August) make less money than movies released at other times of the year.\n",
    "\n",
    "### Related questions: \n",
    "* Is there a relationship between money made and viewer ratings?\n",
    "* Is there a relationship between money made and critical rating?"
   ]
  },
  {
   "cell_type": "code",
   "execution_count": null,
   "metadata": {
    "slideshow": {
     "slide_type": "slide"
    }
   },
   "outputs": [],
   "source": [
    "labels = ['Oscar Season', 'Other Months', 'Summer Blockbusters', \n",
    "          'Summer Dump Months', 'Winter Dump Months']\n",
    "titlecount = Summary_df['Title']\n",
    "\n",
    "\n",
    "x_axis = np.arange(len(labels))  # the label locations\n",
    "\n",
    "plt.figure(figsize = (12, 8))\n",
    "plt.rc('font', size=20)\n",
    "plt.rc('xtick', labelsize=16)\n",
    "\n",
    "plt.bar(x_axis, titlecount, color='r', align='center')\n",
    "\n",
    "ticks = [value for value in x_axis]\n",
    "plt.xticks(ticks, labels, rotation=45)\n",
    "\n",
    "# Set textual properties\n",
    "plt.title(\"Number of Top 40 Movies Since 1980\")\n",
    "plt.ylabel(\"Count of Movies\")\n",
    "plt.xlabel(\"Season\")\n",
    "plt.tight_layout()\n",
    "plt.show()"
   ]
  },
  {
   "cell_type": "code",
   "execution_count": null,
   "metadata": {},
   "outputs": [],
   "source": [
    "labels2 = ['Oscar Season', 'Other Months', 'Summer Blockbusters', \n",
    "          'Summer Dump Months', 'Winter Dump Months']\n",
    "AveBox = Summary_df['Infl. Adj. Dom. Box Office']/1000000\n",
    "\n",
    "\n",
    "x_axis2 = np.arange(len(labels2))  # the label locations\n",
    "\n",
    "plt.figure(figsize = (12, 8))\n",
    "plt.rc('font', size=20)\n",
    "plt.rc('xtick', labelsize=16)\n",
    "\n",
    "plt.bar(x_axis2, AveBox, color='r', align='center')\n",
    "\n",
    "ticks = [value for value in x_axis2]\n",
    "plt.xticks(ticks, labels, rotation=45)\n",
    "\n",
    "# Set textual properties\n",
    "plt.title(\"Average Inflated Adjusted Domestic Box Office Revenue\")\n",
    "plt.ylabel(\"Average Revenue Earned in Millions\")\n",
    "plt.xlabel(\"Season\")\n",
    "plt.tight_layout()\n",
    "plt.show()\n",
    "\n",
    "\n",
    "#figure out how to make this more readable. Y-Axis Sucks"
   ]
  },
  {
   "cell_type": "code",
   "execution_count": null,
   "metadata": {},
   "outputs": [],
   "source": [
    "#John's code ends here"
   ]
  },
  {
   "cell_type": "code",
   "execution_count": null,
   "metadata": {},
   "outputs": [],
   "source": [
    "#Jason's code starts here"
   ]
  },
  {
   "cell_type": "code",
   "execution_count": null,
   "metadata": {
    "scrolled": false
   },
   "outputs": [],
   "source": [
    "SummData.head(5)"
   ]
  },
  {
   "cell_type": "code",
   "execution_count": null,
   "metadata": {},
   "outputs": [],
   "source": [
    "analysis_box_office = SummData[[\"Year Released (Domestic)\", \"Infl. Adj. Dom. Box Office\", \"Data Set\"]]\n",
    "analysis_box_office.head()"
   ]
  },
  {
   "cell_type": "code",
   "execution_count": null,
   "metadata": {},
   "outputs": [],
   "source": [
    "summer_bb = analysis_box_office[[\"Infl. Adj. Dom. Box Office\", \"Data Set\"]]\n",
    "summer_bb.head()"
   ]
  },
  {
   "cell_type": "code",
   "execution_count": null,
   "metadata": {},
   "outputs": [],
   "source": [
    "summerbb_df = summer_bb[summer_bb[\"Data Set\"] == 'Summer Blockbusters']\n",
    "summerbb_df = summerbb_df.rename(columns={\"Data Set\": \"Release_Group\",\n",
    "                                            \"Infl. Adj. Dom. Box Office\": \"Box_office\"\n",
    "                                      })\n",
    "summerbb_df.head()"
   ]
  },
  {
   "cell_type": "code",
   "execution_count": null,
   "metadata": {},
   "outputs": [],
   "source": [
    "not_summer_df = summer_bb[summer_bb[\"Data Set\"] != 'Summer Blockbusters']\n",
    "not_summer_df = not_summer_df.rename(columns={\"Data Set\": \"Release_Group\",\n",
    "                                            \"Infl. Adj. Dom. Box Office\": \"Box_office\"\n",
    "                                     })\n",
    "not_summer_df.head()"
   ]
  },
  {
   "cell_type": "code",
   "execution_count": null,
   "metadata": {},
   "outputs": [],
   "source": [
    "# Calculate Pvalue for Box office amounts using the t-test\n",
    "sts.ttest_ind(summerbb_df.Box_office, not_summer_df.Box_office, equal_var=False)"
   ]
  },
  {
   "cell_type": "markdown",
   "metadata": {},
   "source": [
    "### The pvalue is much lower that .05 so we reject the Null Hypothesis. \n",
    "* This demonstrates that the this occurring by chance is unlikely.\n",
    "* We are confident that movies released between May and August make more money than movies released during other months."
   ]
  },
  {
   "cell_type": "code",
   "execution_count": null,
   "metadata": {},
   "outputs": [],
   "source": [
    "# The index can be reset to provide index numbers based on the new rankings.\n",
    "pie_df = analysis_box_office[[\"Infl. Adj. Dom. Box Office\", \"Data Set\"]]\n",
    "pie_df.head()\n",
    "\n",
    "grouped_by_group = pie_df.groupby([\"Data Set\"])\n",
    "grouped_df = grouped_by_group[\"Infl. Adj. Dom. Box Office\"].sum()\n",
    "\n",
    "groups_cnts_df = pd.DataFrame({\"Sums\": grouped_df})\n",
    "\n",
    "# place gender keys for the sums\n",
    "group_list = groups_cnts_df.keys()\n",
    "\n",
    "plt.figure(figsize = (20, 20))\n",
    "\n",
    "ax1 = plt.subplot(121, aspect='equal')\n",
    "movie_pie = groups_cnts_df.plot(kind=\"pie\", y=group_list[0], ax=ax1, autopct='%1.1f%%', \n",
    " startangle=90, shadow=False, legend = False, fontsize=14, \n",
    " title=(\"% of Total Box Office Earnings by Release Season, 1980-2019\"))\n",
    "movie_pie.set_ylabel(None)\n",
    "\n",
    "plt.show()"
   ]
  },
  {
   "cell_type": "code",
   "execution_count": null,
   "metadata": {},
   "outputs": [],
   "source": [
    "#Jason's code ends here"
   ]
  },
  {
   "cell_type": "code",
   "execution_count": null,
   "metadata": {},
   "outputs": [],
   "source": [
    "#Marianne's code starts here"
   ]
  },
  {
   "cell_type": "markdown",
   "metadata": {},
   "source": [
    "![title](img/rw_oscars.png)"
   ]
  },
  {
   "cell_type": "markdown",
   "metadata": {},
   "source": []
  },
  {
   "cell_type": "markdown",
   "metadata": {},
   "source": [
    "## Hypothesis 2\n",
    "* Hypothesis: The majority of Oscar winning movies are released during \"Oscar Season\" (November and December).\n",
    "* Null Hypothesis: Most Oscar winning movies are released in months other than November and December.\n",
    "\n",
    "### Related questions:\n",
    "* Does box office success equate to more awards success? \n",
    "* Do viewer ratings correlate with oscar wins? \n",
    "* Do critic ratings correlate with oscar wins?\n",
    "\n",
    " Null Hypothesis: Date released does not have any relationship to Oscars won."
   ]
  },
  {
   "cell_type": "code",
   "execution_count": null,
   "metadata": {},
   "outputs": [],
   "source": [
    "# Total Number of Oscars Won by Data Group (Time of Year) Bar Chart - Marianne\n",
    "\n",
    "\n",
    "# SummData.head()\n",
    "\n",
    "Oscar_Time_of_Year = SummData.groupby(\"Data Set\").agg({\"Data Set\":\"count\",\"Number Oscars Won\":\"sum\"})\n",
    "Oscar_Time_of_Year.columns.values[0] = \"Number of Movies\"\n",
    "\n",
    "allMovies = Oscar_Time_of_Year[\"Number of Movies\"].sum()\n",
    "allOscars = Oscar_Time_of_Year[\"Number Oscars Won\"].sum()\n",
    "\n",
    "Oscar_Time_of_Year[\"% of All Movies\"] = Oscar_Time_of_Year[\"Number of Movies\"] / allMovies * 100\n",
    "\n",
    "Oscar_Time_of_Year[\"% of All Oscars\"] = Oscar_Time_of_Year[\"Number Oscars Won\"] / allOscars * 100\n",
    "\n",
    "\n",
    "Oscar_Time_of_Year\n",
    "\n",
    "\n",
    "\n",
    "# Summary_df = SummData.groupby(\"Data Set\").agg({'Title':'count', \n",
    "#                                                 'Infl. Adj. Dom. Box Office':'mean'#, \n",
    "#                                                 #'Oscars Won':'count' \n",
    "#                                               })\n",
    "\n"
   ]
  },
  {
   "cell_type": "code",
   "execution_count": null,
   "metadata": {},
   "outputs": [],
   "source": [
    "ind = np.arange(len(Oscar_Time_of_Year))\n",
    "width = 0.4\n",
    "\n",
    "fig, ax = plt.subplots()\n",
    "ax.barh(ind, Oscar_Time_of_Year['Number Oscars Won'], width, color='gold', label='Oscars Won')\n",
    "ax.barh(ind + width, Oscar_Time_of_Year['Number of Movies'], width, color='blue', label='Total Movies Released')\n",
    "\n",
    "\n",
    "ax.set(yticks=ind + width, yticklabels=Oscar_Time_of_Year.index.values, ylim=[2*width - 1, len(Oscar_Time_of_Year)])\n",
    "ax.legend()\n",
    "ax.set_title('Oscars and Movies Released by Time of Year')\n",
    "plt.ylabel(\"Time of Year\")\n",
    "plt.xlabel(\"Time of Year\")\n",
    "plt.show()\n"
   ]
  },
  {
   "cell_type": "markdown",
   "metadata": {},
   "source": [
    "The highest proportion of Oscars Won is from movies released during Oscar Season, however this doesn't really paint an accurate picture. Comparing the raw number of movies doesn't tell the whole story - seeing the relative proportion of movies in each category tells a better story. (See below.)"
   ]
  },
  {
   "cell_type": "code",
   "execution_count": null,
   "metadata": {
    "scrolled": true
   },
   "outputs": [],
   "source": [
    "ind = np.arange(len(Oscar_Time_of_Year))\n",
    "width = 0.4\n",
    "\n",
    "fig, ax = plt.subplots()\n",
    "ax.barh(ind, Oscar_Time_of_Year['% of All Oscars'], width, color='gold', label='% of All Oscars Won')\n",
    "ax.barh(ind + width, Oscar_Time_of_Year['% of All Movies'], width, color='blue', label='% All Movies Released')\n",
    "\n",
    "\n",
    "ax.set(yticks=ind + width, yticklabels=Oscar_Time_of_Year.index.values, ylim=[2*width - 1, len(Oscar_Time_of_Year)])\n",
    "ax.legend()\n",
    "ax.set_title('Oscars and Movies Released by Time of Year')\n",
    "plt.ylabel(\"Time of Year\")\n",
    "plt.xlabel(\"Percentage of Movies\")\n",
    "plt.show()"
   ]
  },
  {
   "cell_type": "markdown",
   "metadata": {},
   "source": [
    "Comparing the percentages is a better way to see the picture of Oscar success based on time of year. 53.8% of all Oscar winners are released during Oscar season, but only 27.7% of all movies come out during that time of year, meaning movies released during Oscar season are far more likely to win awards. It's also interesting to note that, while Summer Blockbusters win fewer awards than we would expect if time of year didn't matter, it's the second most likely release timeframe for awards."
   ]
  },
  {
   "cell_type": "code",
   "execution_count": null,
   "metadata": {},
   "outputs": [],
   "source": [
    "#marianne's code ends here"
   ]
  },
  {
   "cell_type": "code",
   "execution_count": null,
   "metadata": {},
   "outputs": [],
   "source": [
    "#jason's code starts here"
   ]
  },
  {
   "cell_type": "code",
   "execution_count": null,
   "metadata": {},
   "outputs": [],
   "source": [
    "analysis_oscars = SummData[[\"Number Oscars Won\", \"Data Set\"]]\n",
    "analysis_oscars.head(100)"
   ]
  },
  {
   "cell_type": "code",
   "execution_count": null,
   "metadata": {},
   "outputs": [],
   "source": [
    "oscar_season_df = analysis_oscars[analysis_oscars[\"Data Set\"] == 'Oscar Season']\n",
    "oscar_season_df = oscar_season_df.rename(columns={\"Data Set\": \"Release_Group\",\n",
    "                                            \"Number Oscars Won\": \"Oscars\"\n",
    "                                      })\n",
    "oscar_season_df.head()"
   ]
  },
  {
   "cell_type": "code",
   "execution_count": null,
   "metadata": {},
   "outputs": [],
   "source": [
    "non_oscar_season_df = analysis_oscars[analysis_oscars[\"Data Set\"] != 'Oscar Season']\n",
    "non_oscar_season_df = non_oscar_season_df.rename(columns={\"Data Set\": \"Release_Group\",\n",
    "                                            \"Number Oscars Won\": \"Oscars\"\n",
    "                                      })\n",
    "non_oscar_season_df.head()"
   ]
  },
  {
   "cell_type": "code",
   "execution_count": null,
   "metadata": {},
   "outputs": [],
   "source": [
    "# Calculate Pvalue for Oscar Wins using the t-test\n",
    "sts.ttest_ind(oscar_season_df.Oscars, non_oscar_season_df.Oscars, equal_var=False)"
   ]
  },
  {
   "cell_type": "markdown",
   "metadata": {},
   "source": [
    "### The pvalue is much lower that .05 so we reject the Null Hypothesis. \n",
    "* This demonstrates that the this occurring by chance is unlikely.\n",
    "* We are confident that most Oscar winning movies are released during \"Oscar Season\" (November and December)."
   ]
  },
  {
   "cell_type": "code",
   "execution_count": null,
   "metadata": {},
   "outputs": [],
   "source": [
    "# Build a Pie Chart to convey the Oscars Distribution.\n",
    "pie2_df = analysis_oscars[[\"Number Oscars Won\", \"Data Set\"]]\n",
    "pie2_df.head()\n",
    "\n",
    "oscars_by_group = pie2_df.groupby([\"Data Set\"])\n",
    "grouped_oscar_df = oscars_by_group[\"Number Oscars Won\"].sum()\n",
    "\n",
    "groups_oscar_cnts_df = pd.DataFrame({\"Sums\": grouped_oscar_df})\n",
    "\n",
    "# place gender keys for the sums\n",
    "group_oscar_list = groups_oscar_cnts_df.keys()\n",
    "\n",
    "plt.figure(figsize = (20, 20))\n",
    "\n",
    "ax1 = plt.subplot(121, aspect='equal')\n",
    "movie_oscar_pie = groups_oscar_cnts_df.plot(kind=\"pie\", y=group_oscar_list[0], ax=ax1, autopct='%1.1f%%', \n",
    " startangle=10, shadow=False, legend = False, fontsize=14, title=(\"% Distribution of Oscars by Release Season, 1980-2019\"))\n",
    "movie_oscar_pie.set_ylabel(None)\n",
    "\n",
    "plt.show()"
   ]
  },
  {
   "cell_type": "code",
   "execution_count": null,
   "metadata": {},
   "outputs": [],
   "source": [
    "#jason's code ends here"
   ]
  },
  {
   "cell_type": "code",
   "execution_count": null,
   "metadata": {},
   "outputs": [],
   "source": [
    "#marianne's code starts here"
   ]
  },
  {
   "cell_type": "code",
   "execution_count": null,
   "metadata": {},
   "outputs": [],
   "source": [
    "# Scatterplot of IMDB ratings vs. oscars won (for the top oscar winners) - with regression line - Marianne\n",
    "\n",
    "x_values = SummData['Number Oscars Won']\n",
    "y_values = SummData['IMDB']\n",
    "\n",
    "(slope, intercept, rvalue, pvalue, stderr) = sts.linregress(x_values, y_values)\n",
    "regress_values = x_values * slope + intercept\n",
    "\n",
    "#create plot\n",
    "plt.figure(figsize=(6, 4), dpi=80)\n",
    "plt.scatter(x_values, y_values)\n",
    "plt.plot(x_values, regress_values, \"r-\")\n",
    "\n",
    "#create line equation and annotate\n",
    "line_eq = \"y = \" + str(round(slope,2)) + \"x + \" + str(round(intercept,2))\n",
    "plt.annotate(line_eq, (x_values.min(), y_values.min()), fontsize=15,color=\"red\")\n",
    "\n",
    "#label the axes and create title\n",
    "plt.xlabel(\"Number of Oscars Won\")\n",
    "plt.ylabel(\"Average IMDB Rating\")\n",
    "plt.title(\"Average IMDB Rating vs Oscars Won\")\n",
    "\n",
    "#calculate and print r squared to determine strength of correlation\n",
    "print(f'The r-squared is: {rvalue**2}')\n",
    "\n",
    "plt.show()"
   ]
  },
  {
   "cell_type": "markdown",
   "metadata": {},
   "source": [
    "Based on this regression line and the r-squared, there doesn't appear to be a correlation between awards won and viewer rating. While there aren't many movies winning Oscars with low ratings, there is a large number of highly rated movies winning no Oscars."
   ]
  },
  {
   "cell_type": "code",
   "execution_count": null,
   "metadata": {},
   "outputs": [],
   "source": [
    "# Scatterplot of metaScore ratings vs. oscars won (for the top oscar winners) - with regression line - Marianne\n",
    "\n",
    "metaScore = SummData.dropna(subset=['Metascore'])\n",
    "\n",
    "x_values = metaScore['Number Oscars Won']\n",
    "y_values = metaScore['Metascore']\n",
    "\n",
    "(slope, intercept, rvalue, pvalue, stderr) = sts.linregress(x_values, y_values)\n",
    "regress_values = x_values * slope + intercept\n",
    "\n",
    "#create plot\n",
    "plt.figure(figsize=(6, 4), dpi=80)\n",
    "plt.scatter(x_values, y_values)\n",
    "plt.plot(x_values, regress_values, \"r-\")\n",
    "\n",
    "#create line equation and annotate\n",
    "line_eq = \"y = \" + str(round(slope,2)) + \"x + \" + str(round(intercept,2))\n",
    "plt.annotate(line_eq, (x_values.min(), y_values.min()), fontsize=15,color=\"red\")\n",
    "\n",
    "#label the axes and create title\n",
    "plt.xlabel(\"Number of Oscars Won\")\n",
    "plt.ylabel(\"Metascore\")\n",
    "plt.title(\"Metascore Rating vs Oscars Won\")\n",
    "\n",
    "#calculate and print r squared to determine strength of correlation\n",
    "print(f'The r-squared is: {rvalue**2}')\n",
    "\n",
    "plt.show()"
   ]
  },
  {
   "cell_type": "markdown",
   "metadata": {},
   "source": [
    "With an r-squared of .168, there is little correlation between critical ratings and Oscar success. "
   ]
  },
  {
   "cell_type": "code",
   "execution_count": null,
   "metadata": {},
   "outputs": [],
   "source": [
    "# Scatter Plot of box office vs number of oscars won\n",
    "\n",
    "x_values = SummData['Number Oscars Won']\n",
    "y_values = SummData['Infl. Adj. Dom. Box Office']\n",
    "\n",
    "(slope, intercept, rvalue, pvalue, stderr) = sts.linregress(x_values, y_values)\n",
    "regress_values = x_values * slope + intercept\n",
    "\n",
    "#create plot\n",
    "plt.figure(figsize=(6, 4), dpi=80)\n",
    "plt.scatter(x_values, y_values)\n",
    "plt.plot(x_values, regress_values, \"r-\")\n",
    "\n",
    "#create line equation and annotate\n",
    "line_eq = \"y = \" + str(round(slope,2)) + \"x + \" + str(round(intercept,2))\n",
    "plt.annotate(line_eq, (x_values.min(), y_values.min()), fontsize=15,color=\"red\")\n",
    "\n",
    "#label the axes and create title\n",
    "plt.xlabel(\"Number of Oscars Won\")\n",
    "plt.ylabel(\"Inflation Adjusted Domestic Box Office (Millions of Dollars)\")\n",
    "plt.title(\"Box Office vs Oscars Won\")\n",
    "\n",
    "#calculate and print r squared to determine strength of correlation\n",
    "print(f'The r-squared is: {rvalue**2}')\n",
    "\n",
    "plt.show()"
   ]
  },
  {
   "cell_type": "markdown",
   "metadata": {},
   "source": [
    "This regression shows that there is no real correlation between box office success and awards won, as the r-squared is .054, even lower than the other regressions run on Oscars."
   ]
  },
  {
   "cell_type": "code",
   "execution_count": null,
   "metadata": {},
   "outputs": [],
   "source": [
    "#Create the lists of box office values for the box plot\n",
    "\n",
    "OscarsOnly_df = SummData.loc[SummData['Oscars Won'] == 'Yes'] #filter the dataframe to oscar winners\n",
    "\n",
    "OscarMoney = OscarsOnly_df['Infl. Adj. Dom. Box Office']       #save the list of box office values of oscar winners\n",
    "\n",
    "\n",
    "NoOscars_df = SummData.loc[SummData['Oscars Won'] == 'No']     #filter the dataframe to non-oscar winners\n",
    "    \n",
    "OscarlessMoney = NoOscars_df['Infl. Adj. Dom. Box Office']     #save the list of box office values of non-winners\n",
    "    \n"
   ]
  },
  {
   "cell_type": "code",
   "execution_count": null,
   "metadata": {},
   "outputs": [],
   "source": [
    "# Create a box plot comparing the box office of oscar winners vs. non winners\n",
    "\n",
    "#Create the list of all movies\n",
    "allMovies = [OscarMoney, OscarlessMoney]\n",
    "\n",
    "#plot the data\n",
    "fig, ax = plt.subplots()\n",
    "ax.boxplot(allMovies)\n",
    "\n",
    "# change outlier point symbols\n",
    "ax.boxplot(allMovies, 0, 'x')\n",
    "\n",
    "#label the graph\n",
    "ax.set_xticklabels(['Oscar Winners', 'No Oscars'])\n",
    "ax.set_ylabel('Inflation Adjusted Domestic Box Office (Millions of Dollars)')\n",
    "ax.set_title('Box Office by Oscar Winner Status')\n",
    "\n",
    "#look at adjusting values to remove exponent\n",
    "# set yticks\n",
    "\n",
    "plt.show()"
   ]
  },
  {
   "cell_type": "markdown",
   "metadata": {},
   "source": [
    "Based on this plot, Oscar winners have a wider range of box office earnings. However, both datasets have a large number of outliers that can skew other analyses. Based on this, the majority of movies don't actually make much money. The ones that most people are aware of are the outliers."
   ]
  },
  {
   "cell_type": "code",
   "execution_count": null,
   "metadata": {},
   "outputs": [],
   "source": [
    "#Marianne's code ends here"
   ]
  },
  {
   "cell_type": "markdown",
   "metadata": {},
   "source": [
    "## Bonus analysis: Impact of genre on box office sales and awards\n",
    "* Our initital guess: Action movies make the most money. Dramas win more awards.\n",
    "![title](img/titanic.png) (You knew it was coming eventually)."
   ]
  },
  {
   "cell_type": "code",
   "execution_count": null,
   "metadata": {},
   "outputs": [],
   "source": [
    "#Nicole's code starts here"
   ]
  },
  {
   "cell_type": "code",
   "execution_count": null,
   "metadata": {},
   "outputs": [],
   "source": [
    "# Load cleaned data\n",
    "FINAL_CLEANED_DF = pd.read_csv('DataFiles/FINAL_CLEANED_DF.csv')"
   ]
  },
  {
   "cell_type": "code",
   "execution_count": null,
   "metadata": {},
   "outputs": [],
   "source": [
    "# Account for NaN values in genre\n",
    "FINAL_CLEANED_DF['Genre'] = FINAL_CLEANED_DF['Genre'].fillna('Unspecified')"
   ]
  },
  {
   "cell_type": "code",
   "execution_count": null,
   "metadata": {},
   "outputs": [],
   "source": [
    "# Create Dataframe & reformat for use in genre analysis\n",
    "\n",
    "# Genre Groupby\n",
    "genre_df = FINAL_CLEANED_DF.groupby('Genre').agg({'Genre':'count','Infl. Adj. Dom. Box Office':\n",
    "                                                ['sum', 'mean'], 'Number Oscars Won': 'sum'})\n",
    "# Genre DataFrame\n",
    "genre_df.columns = ['# of Movies', 'Box Office Sum', 'Box Office Mean', 'Oscars Won']\n",
    "\n",
    "# Reset index so genre turned into a column\n",
    "genre_df = genre_df.reset_index()\n",
    "\n",
    "# Change Oscars Won to integer\n",
    "genre_df['Oscars Won'] = genre_df['Oscars Won'].astype(int)\n",
    "\n",
    "# Change Box Office format from exponent to integer\n",
    "genre_df['Box Office Mean'] = genre_df['Box Office Mean'].astype('int64')\n",
    "\n",
    "# Display Genre DataFrame\n",
    "genre_df"
   ]
  },
  {
   "cell_type": "code",
   "execution_count": null,
   "metadata": {},
   "outputs": [],
   "source": [
    "# Pie Chart of Oscars Won Per Genre\n",
    "\n",
    "# Removing Zero Values to make plot look nicer\n",
    "non_zero_values_df = genre_df.loc[(genre_df['Oscars Won'] > 0), :].sort_values('Oscars Won')\n",
    "\n",
    "# Create Plot\n",
    "oscars = non_zero_values_df['Oscars Won']\n",
    "labels = non_zero_values_df['Genre']\n",
    "plt.rc('font', size = 12)\n",
    "colors = ['pink', 'dimgray', 'peru', 'deeppink', 'darkviolet', 'plum',\n",
    "          'tomato', 'limegreen', 'y', 'darkturquoise']\n",
    "fig, ax = plt.subplots()\n",
    "ax.axis('equal')\n",
    "pie = ax.pie(oscars, radius=2.55, colors=['k'])\n",
    "pie2 = ax.pie(oscars, radius=2.5, labels = labels, labeldistance = 1.06, autopct = '%1.1f%%',\n",
    "             startangle=200, colors = colors)\n",
    "fig.suptitle('Percent of Oscars Won By Genre', fontsize=16, y= 1.4)\n",
    "\n",
    "plt.show()"
   ]
  },
  {
   "cell_type": "code",
   "execution_count": null,
   "metadata": {},
   "outputs": [],
   "source": [
    "# Bar Chart of Total Box Office Sales Per Genre\n",
    "revenue = genre_df['Box Office Sum']\n",
    "genre = genre_df['Genre']\n",
    "colors = ['limegreen', 'y', 'gray', 'darkviolet', 'yellowgreen', 'pink',\n",
    "          'darkturquoise', 'dimgray', 'plum', 'deeppink', 'tomato', 'orange', 'peru']\n",
    "plt.figure(figsize = (12,6))\n",
    "plt.bar(genre, revenue, color = colors)\n",
    "yticks = np.arange(0, 100000000000, 10000000000)\n",
    "ylabels = [0, 10, 20, 30, 40, 50, 60, 70, 80, 90, 100]\n",
    "plt.yticks(ticks = yticks, labels = ylabels)\n",
    "plt.xticks(rotation = 90)\n",
    "plt.title(\"Total Box Office Sales Per Genre\")\n",
    "plt.xlabel('Genre')\n",
    "plt.ylabel('Box Office Sales (billions)')\n",
    "plt.grid()\n",
    "plt.show()"
   ]
  },
  {
   "cell_type": "code",
   "execution_count": null,
   "metadata": {},
   "outputs": [],
   "source": [
    "# Bar Chart of Mean Box Office Sales Per Genre\n",
    "revenue = genre_df['Box Office Mean']\n",
    "genre = genre_df['Genre']\n",
    "plt.figure(figsize = (12,6))\n",
    "plt.bar(genre, revenue, color = colors)\n",
    "yticks = np.arange(0, 250000000, 25000000)\n",
    "ylabels = [0, 25, 50, 75, 100, 125, 150, 175, 200, 250]\n",
    "plt.yticks(ticks = yticks, labels = ylabels)\n",
    "plt.xticks(rotation = 90)\n",
    "plt.title('Mean Box Office Sales Per Genre')\n",
    "plt.xlabel('Genre')\n",
    "plt.ylabel('Box Office Sales (millions)')\n",
    "plt.rc('xtick' , labelsize = 14)\n",
    "plt.grid()\n",
    "plt.show()"
   ]
  },
  {
   "cell_type": "markdown",
   "metadata": {},
   "source": [
    "## Win that fictitious Netflix subscription!\n",
    "* Guess the top 5 box office movies in the last 40 years\n",
    "* Guess the 3 movies that have won the most Academy Awards (tying for 11). *Hint: One was before 1980.*"
   ]
  },
  {
   "cell_type": "code",
   "execution_count": null,
   "metadata": {},
   "outputs": [],
   "source": [
    "# Create DF to display top five movies\n",
    "top_five = FINAL_CLEANED_DF[['Title', 'Domestic Release Date', 'Infl. Adj. Dom. Box Office',\n",
    "                             'Domestic Box Office', 'Metascore', 'IMDB']]\n",
    "top_five.columns = ['Movie', 'Release Date', 'Box Office (Adjusted)', 'Box Office', 'Metascore', 'IMDB Rating']\n",
    "top_five['Box Office (Adjusted)'] = top_five['Box Office (Adjusted)'].map('${:,.0f}'.format)\n",
    "top_five['Box Office'] = top_five['Box Office'].map('${:,.0f}'.format)\n",
    "top_five['Metascore'] = top_five['Metascore'].map('{:.0f}'.format)\n",
    "top_five = top_five.set_index('Movie')"
   ]
  },
  {
   "cell_type": "code",
   "execution_count": null,
   "metadata": {},
   "outputs": [],
   "source": [
    "# Display Top Five Movies (uncomment)\n",
    "# top_five.head(5)"
   ]
  },
  {
   "cell_type": "code",
   "execution_count": null,
   "metadata": {},
   "outputs": [],
   "source": [
    "# Create DF to display most oscar wins\n",
    "# Create DF to display top five movies\n",
    "top_oscars = FINAL_CLEANED_DF[['Title', 'Domestic Release Date', 'Number Oscars Won', 'Infl. Adj. Dom. Box Office',\n",
    "                             'Domestic Box Office', 'Metascore', 'IMDB']].sort_values('Number Oscars Won', ascending = False)\n",
    "top_oscars.columns = ['Movie', 'Release Date', 'Oscars', 'Box Office (Adjusted)', 'Box Office', 'Metascore', 'IMDB Rating']\n",
    "top_oscars['Box Office (Adjusted)'] = top_oscars['Box Office (Adjusted)'].map('${:,.0f}'.format)\n",
    "top_oscars['Box Office'] = top_oscars['Box Office'].map('${:,.0f}'.format)\n",
    "top_oscars['Metascore'] = top_oscars['Metascore'].map('{:.0f}'.format)\n",
    "top_oscars['Oscars'] = top_oscars['Oscars'].map('{:.0f}'.format)\n",
    "top_oscars = top_oscars.set_index('Movie')"
   ]
  },
  {
   "cell_type": "code",
   "execution_count": null,
   "metadata": {},
   "outputs": [],
   "source": [
    "# Display Top Oscars (uncomment)\n",
    "# top_oscars.head(2)"
   ]
  },
  {
   "cell_type": "code",
   "execution_count": null,
   "metadata": {},
   "outputs": [],
   "source": [
    "# Jerry Maquire facts\n",
    "print(\"\"\"\n",
    "Jerry Maquire Facts:\n",
    "• Release Date: 1996-12-13\n",
    "• Adjusted Box office earnings: $311,919,057\n",
    "• Ranking: 186\n",
    "• Genre: Romantic Comedy\n",
    "• Oscars Won: 1\n",
    "• Metascore: 77\n",
    "• IMDB Rating: 7.3'\n",
    "\"\"\")"
   ]
  },
  {
   "cell_type": "code",
   "execution_count": null,
   "metadata": {},
   "outputs": [],
   "source": [
    "#Nicole's code ends here"
   ]
  }
 ],
 "metadata": {
  "kernelspec": {
   "display_name": "Python 3",
   "language": "python",
   "name": "python3"
  },
  "language_info": {
   "codemirror_mode": {
    "name": "ipython",
    "version": 3
   },
   "file_extension": ".py",
   "mimetype": "text/x-python",
   "name": "python",
   "nbconvert_exporter": "python",
   "pygments_lexer": "ipython3",
   "version": "3.6.10"
  }
 },
 "nbformat": 4,
 "nbformat_minor": 4
}
