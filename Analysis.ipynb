{
 "cells": [
  {
   "cell_type": "code",
   "execution_count": null,
   "metadata": {},
   "outputs": [],
   "source": [
    "#John's Code Start's Here"
   ]
  },
  {
   "cell_type": "code",
   "execution_count": null,
   "metadata": {},
   "outputs": [],
   "source": [
    "# Dependencies\n",
    "import pandas as pd\n",
    "import matplotlib.pyplot as plt\n",
    "import scipy.stats as sts\n",
    "import numpy as np\n",
    "\n",
    "#Load Data\n",
    "TheData_df = pd.read_csv('DataFiles/clean_test_data.csv')\n",
    "Data = TheData_df\n",
    "\n",
    "#Run .Head()\n",
    "Data.head()"
   ]
  },
  {
   "cell_type": "code",
   "execution_count": null,
   "metadata": {},
   "outputs": [],
   "source": [
    "#Group By Year\n",
    "# YearReleased = Data.groupby('Year Released (Domestic)')\n",
    "# CountYR = YearReleased['Year Released (Domestic)'].count()\n",
    "# CountYR\n",
    "\n",
    "#I don't think we need to go through data year over year. The difference is \n",
    "    #5 data sets vs 5*40 data sets \n",
    "    \n",
    "#This is useful to check if we have all of our data"
   ]
  },
  {
   "cell_type": "code",
   "execution_count": null,
   "metadata": {},
   "outputs": [],
   "source": [
    "#Define Data Set Groups\n",
    "d = {'Month Released (Domestic)': [1, 2, 3, 4, 5, 6, 7, 8, 9, 10, 11, 12], \n",
    "     'Data Set': ['Winter Dump Months', \n",
    "                    'Winter Dump Months', \n",
    "                    'Other Months', \n",
    "                    'Other Months', \n",
    "                    'Summer Blockbusters',\n",
    "                    'Summer Blockbusters',\n",
    "                    'Summer Blockbusters',\n",
    "                    'Summer Dump Months',\n",
    "                    'Summer Dump Months',\n",
    "                    'Other Months',\n",
    "                    'Oscar Season',\n",
    "                    'Oscar Season',\n",
    "                   ]}\n",
    "DataSets_df = pd.DataFrame(data=d)\n",
    "DataSets_df"
   ]
  },
  {
   "cell_type": "code",
   "execution_count": null,
   "metadata": {},
   "outputs": [],
   "source": [
    "SummData = pd.merge(Data, DataSets_df, \n",
    "                      how=\"left\", on='Month Released (Domestic)')\n",
    "SummData.head()"
   ]
  },
  {
   "cell_type": "code",
   "execution_count": null,
   "metadata": {},
   "outputs": [],
   "source": [
    "Summary_df = SummData.groupby(\"Data Set\").agg({'Title':'count', \n",
    "                                                'Infl. Adj. Dom. Box Office':'mean'#, \n",
    "                                                #'Oscars Won':'count' \n",
    "                                              })\n",
    "\n",
    "Summary_df.head()"
   ]
  },
  {
   "cell_type": "code",
   "execution_count": null,
   "metadata": {},
   "outputs": [],
   "source": [
    "#Make Box Office Look Good\n",
    "Summary_df['Infl. Adj. Dom. Box Office'] = Summary_df[\n",
    "    'Infl. Adj. Dom. Box Office'].astype(\n",
    "     float).map(\"${:,.2f}\".format)\n",
    "\n",
    "Summary_df\n",
    "#Need to add Average to \"Inflation Adjusted Box Office\""
   ]
  },
  {
   "cell_type": "code",
   "execution_count": null,
   "metadata": {},
   "outputs": [],
   "source": [
    "labels = ['Oscar Season', 'Other Months', 'Summer Blockbusters', \n",
    "          'Summer Dump Months', 'Winter Dump Months']\n",
    "titlecount = Summary_df['Title']\n",
    "\n",
    "\n",
    "x_axis = np.arange(len(labels))  # the label locations\n",
    "\n",
    "\n",
    "plt.bar(x, titlecount, color='r', align='center')\n",
    "\n",
    "ticks = [value for value in x_axis]\n",
    "plt.xticks(ticks, labels, rotation=45)\n",
    "\n",
    "# Set textual properties\n",
    "plt.title(\"Number of Top 40 Movies Since 1980\")\n",
    "plt.ylabel(\"Count of Movies\")\n",
    "plt.xlabel(\"Season\")\n",
    "plt.tight_layout()\n",
    "plt.show()\n",
    "\n"
   ]
  },
  {
   "cell_type": "code",
   "execution_count": null,
   "metadata": {},
   "outputs": [],
   "source": [
    "labels2 = ['Oscar Season', 'Other Months', 'Summer Blockbusters', \n",
    "          'Summer Dump Months', 'Winter Dump Months']\n",
    "titlecount = Summary_df['Title']\n",
    "\n",
    "\n",
    "x_axis = np.arange(len(labels))  # the label locations\n",
    "\n",
    "\n",
    "plt.bar(x, titlecount, color='r', align='center')\n",
    "\n",
    "ticks = [value for value in x_axis]\n",
    "plt.xticks(ticks, labels, rotation=45)\n",
    "\n",
    "# Set textual properties\n",
    "plt.title(\"Number of Top 40 Movies Since 1980\")\n",
    "plt.ylabel(\"Count of Movies\")\n",
    "plt.xlabel(\"Season\")\n",
    "plt.tight_layout()\n",
    "plt.show()"
   ]
  },
  {
   "cell_type": "code",
   "execution_count": null,
   "metadata": {},
   "outputs": [],
   "source": [
    "#John's code ends here"
   ]
  },
  {
   "cell_type": "code",
   "execution_count": null,
   "metadata": {},
   "outputs": [],
   "source": [
    "#Nicole's code starts here"
   ]
  },
  {
   "cell_type": "code",
   "execution_count": null,
   "metadata": {},
   "outputs": [],
   "source": [
    "# Load cleaned data\n",
    "FINAL_CLEANED_DF = pd.read_csv('DataFiles/FINAL_CLEANED_DF.csv')"
   ]
  },
  {
   "cell_type": "code",
   "execution_count": null,
   "metadata": {},
   "outputs": [],
   "source": [
    "# Account for NaN values in genre\n",
    "FINAL_CLEANED_DF['Genre'] = FINAL_CLEANED_DF['Genre'].fillna('Unspecified')"
   ]
  },
  {
   "cell_type": "code",
   "execution_count": null,
   "metadata": {},
   "outputs": [],
   "source": [
    "# Genre Groupby\n",
    "genre_df = FINAL_CLEANED_DF.groupby('Genre').agg({'Genre':'count','Infl. Adj. Dom. Box Office':\n",
    "                                                ['sum', 'mean'], 'Number Oscars Won': 'sum'})\n",
    "# Genre DataFrame\n",
    "genre_df.columns = ['# of Movies', 'Box Office Sum', 'Box Office Mean', 'Oscars Won']\n",
    "\n",
    "# Reset index so genre turned into a column\n",
    "genre_df = genre_df.reset_index()\n",
    "\n",
    "# Change Oscars Won to integer\n",
    "genre_df['Oscars Won'] = genre_df['Oscars Won'].astype(int)\n",
    "\n",
    "# Change Box Office format from exponent to integer\n",
    "genre_df['Box Office Mean'] = genre_df['Box Office Mean'].astype('int64')\n",
    "\n",
    "# Display Genre DataFrame\n",
    "genre_df"
   ]
  },
  {
   "cell_type": "code",
   "execution_count": null,
   "metadata": {},
   "outputs": [],
   "source": [
    "# Pie Chart of Oscars Won Per Genre\n",
    "\n",
    "# Removing Zero Values to make plot look nicer\n",
    "non_zero_values_df = genre_df.loc[(genre_df['Oscars Won'] > 0), :].sort_values('Oscars Won')\n",
    "\n",
    "# Create Plot\n",
    "oscars = non_zero_values_df['Oscars Won']\n",
    "labels = non_zero_values_df['Genre']\n",
    "plt.rc('font', size = 12)\n",
    "colors = ['pink', 'dimgray', 'peru', 'deeppink', 'darkviolet', 'plum',\n",
    "          'tomato', 'limegreen', 'y', 'darkturquoise']\n",
    "fig, ax = plt.subplots()\n",
    "ax.axis('equal')\n",
    "pie = ax.pie(oscars, radius=2.55, colors=['k'])\n",
    "pie2 = ax.pie(oscars, radius=2.5, labels = labels, labeldistance = 1.06, autopct = '%1.1f%%',\n",
    "             startangle=200, colors = colors)\n",
    "fig.suptitle('Percent of Oscars Won By Genre', fontsize=16, y= 1.4)\n",
    "\n",
    "plt.show()"
   ]
  },
  {
   "cell_type": "code",
   "execution_count": null,
   "metadata": {},
   "outputs": [],
   "source": [
    "# Bar Chart of Total Box Office Sales Per Genre\n",
    "revenue = genre_df['Box Office Sum']\n",
    "genre = genre_df['Genre']\n",
    "colors = ['limegreen', 'y', 'gray', 'darkviolet', 'yellowgreen', 'pink',\n",
    "          'darkturquoise', 'dimgray', 'plum', 'deeppink', 'tomato', 'orange', 'peru']\n",
    "plt.figure(figsize = (12,6))\n",
    "plt.bar(genre, revenue, color = colors)\n",
    "yticks = np.arange(0, 100000000000, 10000000000)\n",
    "ylabels = [0, 10, 20, 20, 40, 50, 60, 70, 80, 90, 100]\n",
    "plt.yticks(ticks = yticks, labels = ylabels)\n",
    "plt.xticks(rotation = 90)\n",
    "plt.title(\"Total Box Office Sales Per Genre\")\n",
    "plt.xlabel('Genre')\n",
    "plt.ylabel('Box Office Sales (billions)')\n",
    "\n",
    "# plt.tight_layout() \n",
    "\n",
    "plt.show()"
   ]
  },
  {
   "cell_type": "code",
   "execution_count": null,
   "metadata": {},
   "outputs": [],
   "source": [
    "# Bar Chart of Mean Box Office Sales Per Genre\n",
    "revenue = genre_df['Box Office Mean']\n",
    "genre = genre_df['Genre']\n",
    "plt.figure(figsize = (12,6))\n",
    "plt.bar(genre, revenue, color = colors)\n",
    "yticks = np.arange(0, 250000000, 25000000)\n",
    "ylabels = [0, 25, 50, 75, 100, 125, 150, 175, 200]\n",
    "plt.yticks(ticks = yticks, labels = ylabels)\n",
    "plt.xticks(rotation = 90)\n",
    "plt.title(\"Mean Box Office Sales Per Genre\")\n",
    "plt.xlabel('Genre')\n",
    "plt.ylabel('Box Office Sales (millions)')\n",
    "plt.rc('xtick' , labelsize = 14)\n",
    "# plt.tight_layout() \n",
    "\n",
    "plt.show()"
   ]
  },
  {
   "cell_type": "code",
   "execution_count": null,
   "metadata": {},
   "outputs": [],
   "source": [
    "revenue_sum = genre_df['Box Office Sum']\n",
    "revenue_mean = genre_df['Box Office Mean']\n",
    "genre = genre_df['Genre']\n",
    "\n",
    "fig, (ax1, ax2) = plt.subplots(2, sharex=True)\n",
    "fig.suptitle('Box Office Sales Per Genre')\n",
    "# plt.figure(figsize = (12,3))\n",
    "plt.xticks(rotation = 90)\n",
    "\n",
    "\n",
    "ax1.bar(genre, revenue_sum, color = colors)\n",
    "ax1.set_ylabel('Revenue')\n",
    "ax1.set_title('xxx')\n",
    "\n",
    "ax2.bar(genre, revenue_mean, color = colors)\n",
    "ax2.set_ylabel('Revenue')\n",
    "ax2.set_title('yyy')\n",
    "\n",
    "\n",
    "# plt.tight_layout() \n",
    "plt.show()"
   ]
  },
  {
   "cell_type": "code",
   "execution_count": null,
   "metadata": {},
   "outputs": [],
   "source": [
    "#Nicole's code ends here"
   ]
  },
  {
   "cell_type": "code",
   "execution_count": null,
   "metadata": {},
   "outputs": [],
   "source": [
    "#Jason's code starts here"
   ]
  },
  {
   "cell_type": "code",
   "execution_count": null,
   "metadata": {},
   "outputs": [],
   "source": [
    "#Jason's code ends here"
   ]
  },
  {
   "cell_type": "code",
   "execution_count": null,
   "metadata": {},
   "outputs": [],
   "source": [
    "#Marianne's code starts here"
   ]
  },
  {
   "cell_type": "code",
   "execution_count": null,
   "metadata": {},
   "outputs": [],
   "source": [
    "#Marianne's code ends here"
   ]
  }
 ],
 "metadata": {
  "kernelspec": {
   "display_name": "Python 3",
   "language": "python",
   "name": "python3"
  },
  "language_info": {
   "codemirror_mode": {
    "name": "ipython",
    "version": 3
   },
   "file_extension": ".py",
   "mimetype": "text/x-python",
   "name": "python",
   "nbconvert_exporter": "python",
   "pygments_lexer": "ipython3",
   "version": "3.6.10"
  }
 },
 "nbformat": 4,
 "nbformat_minor": 4
}
