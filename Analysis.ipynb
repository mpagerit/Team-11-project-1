{
 "cells": [
  {
   "cell_type": "code",
   "execution_count": null,
   "metadata": {},
   "outputs": [],
   "source": [
    "#John's Code Start's Here"
   ]
  },
  {
   "cell_type": "code",
   "execution_count": null,
   "metadata": {},
   "outputs": [],
   "source": [
    "# Dependencies\n",
    "import pandas as pd\n",
    "import matplotlib.pyplot as plt\n",
    "import scipy.stats as sts\n",
    "import numpy as np\n",
    "\n",
    "#Load Data\n",
    "TheData_df = pd.read_csv('DataFiles/FINAL_CLEANED_DF.csv')\n",
    "Data = TheData_df\n",
    "\n",
    "#Run .Head()\n",
    "Data.head()"
   ]
  },
  {
   "cell_type": "code",
   "execution_count": null,
   "metadata": {},
   "outputs": [],
   "source": [
    "#Group By Year\n",
    "# YearReleased = Data.groupby('Year Released (Domestic)')\n",
    "# CountYR = YearReleased['Year Released (Domestic)'].count()\n",
    "# CountYR\n",
    "\n",
    "#I don't think we need to go through data year over year. The difference is \n",
    "    #5 data sets vs 5*40 data sets \n",
    "    \n",
    "#This is useful to check if we have all of our data"
   ]
  },
  {
   "cell_type": "code",
   "execution_count": null,
   "metadata": {},
   "outputs": [],
   "source": [
    "#Define Data Set Groups\n",
    "d = {'Month Released (Domestic)': [1, 2, 3, 4, 5, 6, 7, 8, 9, 10, 11, 12], \n",
    "     'Data Set': ['Winter Dump Months', \n",
    "                    'Winter Dump Months', \n",
    "                    'Other Months', \n",
    "                    'Other Months', \n",
    "                    'Summer Blockbusters',\n",
    "                    'Summer Blockbusters',\n",
    "                    'Summer Blockbusters',\n",
    "                    'Summer Dump Months',\n",
    "                    'Summer Dump Months',\n",
    "                    'Other Months',\n",
    "                    'Oscar Season',\n",
    "                    'Oscar Season',\n",
    "                   ]}\n",
    "DataSets_df = pd.DataFrame(data=d)\n",
    "DataSets_df"
   ]
  },
  {
   "cell_type": "code",
   "execution_count": null,
   "metadata": {},
   "outputs": [],
   "source": [
    "SummData = pd.merge(Data, DataSets_df, \n",
    "                      how=\"left\", on='Month Released (Domestic)')\n",
    "SummData.head()"
   ]
  },
  {
   "cell_type": "code",
   "execution_count": null,
   "metadata": {},
   "outputs": [],
   "source": [
    "Summary_df = SummData.groupby(\"Data Set\").agg({'Title':'count', \n",
    "                                                'Infl. Adj. Dom. Box Office':'mean'#, \n",
    "                                                #'Oscars Won':'count' \n",
    "                                              })\n",
    "\n",
    "Summary_df.head()"
   ]
  },
  {
   "cell_type": "code",
   "execution_count": null,
   "metadata": {},
   "outputs": [],
   "source": [
    "#Make Box Office Look Good\n",
    "Summary_df['Infl. Adj. Dom. Box Office'] = Summary_df[\n",
    "    'Infl. Adj. Dom. Box Office'].astype(\n",
    "     float).map(\"${:,.2f}\".format)\n",
    "\n",
    "Summary_df\n",
    "#Need to add Average to \"Inflation Adjusted Box Office\""
   ]
  },
  {
   "cell_type": "code",
   "execution_count": null,
   "metadata": {},
   "outputs": [],
   "source": [
    "labels = ['Oscar Season', 'Other Months', 'Summer Blockbusters', \n",
    "          'Summer Dump Months', 'Winter Dump Months']\n",
    "titlecount = Summary_df['Title']\n",
    "\n",
    "\n",
    "x_axis = np.arange(len(labels))  # the label locations\n",
    "\n",
    "\n",
    "plt.bar(x, titlecount, color='r', align='center')\n",
    "\n",
    "ticks = [value for value in x_axis]\n",
    "plt.xticks(ticks, labels, rotation=45)\n",
    "\n",
    "# Set textual properties\n",
    "plt.title(\"Number of Top 40 Movies Since 1980\")\n",
    "plt.ylabel(\"Count of Movies\")\n",
    "plt.xlabel(\"Season\")\n",
    "plt.tight_layout()\n",
    "plt.show()\n",
    "\n"
   ]
  },
  {
   "cell_type": "code",
   "execution_count": null,
   "metadata": {},
   "outputs": [],
   "source": [
    "labels2 = ['Oscar Season', 'Other Months', 'Summer Blockbusters', \n",
    "          'Summer Dump Months', 'Winter Dump Months']\n",
    "titlecount = Summary_df['Title']\n",
    "\n",
    "\n",
    "x_axis = np.arange(len(labels))  # the label locations\n",
    "\n",
    "\n",
    "plt.bar(x, titlecount, color='r', align='center')\n",
    "\n",
    "ticks = [value for value in x_axis]\n",
    "plt.xticks(ticks, labels, rotation=45)\n",
    "\n",
    "# Set textual properties\n",
    "plt.title(\"Number of Top 40 Movies Since 1980\")\n",
    "plt.ylabel(\"Count of Movies\")\n",
    "plt.xlabel(\"Season\")\n",
    "plt.tight_layout()\n",
    "plt.show()"
   ]
  },
  {
   "cell_type": "code",
   "execution_count": null,
   "metadata": {},
   "outputs": [],
   "source": [
    "#John's code ends here"
   ]
  },
  {
   "cell_type": "code",
   "execution_count": null,
   "metadata": {},
   "outputs": [],
   "source": [
    "#Nicole's code starts here"
   ]
  },
  {
   "cell_type": "code",
   "execution_count": null,
   "metadata": {},
   "outputs": [],
   "source": [
    "#Nicole's code ends here"
   ]
  },
  {
   "cell_type": "code",
   "execution_count": null,
   "metadata": {},
   "outputs": [],
   "source": [
    "#Jason's code starts here"
   ]
  },
  {
   "cell_type": "code",
   "execution_count": null,
   "metadata": {
    "scrolled": false
   },
   "outputs": [],
   "source": [
    "SummData.head(5)"
   ]
  },
  {
   "cell_type": "code",
   "execution_count": null,
   "metadata": {},
   "outputs": [],
   "source": [
    "analysis_box_office = SummData[[\"Year Released (Domestic)\", \"Infl. Adj. Dom. Box Office\", \"Data Set\"]]\n",
    "analysis_box_office.head()"
   ]
  },
  {
   "cell_type": "code",
   "execution_count": null,
   "metadata": {},
   "outputs": [],
   "source": [
    "summer_bb = analysis_box_office[[\"Infl. Adj. Dom. Box Office\", \"Data Set\"]]\n",
    "summer_bb.head()"
   ]
  },
  {
   "cell_type": "code",
   "execution_count": null,
   "metadata": {},
   "outputs": [],
   "source": [
    "summerbb_df = summer_bb[summer_bb[\"Data Set\"] == 'Summer Blockbusters']\n",
    "summerbb_df = summerbb_df.rename(columns={\"Data Set\": \"Release_Group\",\n",
    "                                            \"Infl. Adj. Dom. Box Office\": \"Box_office\"\n",
    "                                      })\n",
    "summerbb_df.head()"
   ]
  },
  {
   "cell_type": "code",
   "execution_count": null,
   "metadata": {},
   "outputs": [],
   "source": [
    "not_summer_df = summer_bb[summer_bb[\"Data Set\"] != 'Summer Blockbusters']\n",
    "not_summer_df = not_summer_df.rename(columns={\"Data Set\": \"Release_Group\",\n",
    "                                            \"Infl. Adj. Dom. Box Office\": \"Box_office\"\n",
    "                                     })\n",
    "not_summer_df.head()"
   ]
  },
  {
   "cell_type": "code",
   "execution_count": null,
   "metadata": {},
   "outputs": [],
   "source": [
    "# Calculate Pvalue for Box office amounts usingthe t-test\n",
    "sts.ttest_ind(summerbb_df.Box_office, not_summer_df.Box_office, equal_var=False)"
   ]
  },
  {
   "cell_type": "markdown",
   "metadata": {},
   "source": [
    "The pvalue is way lower that .05 so we can say that this proves the Hypothesis due to the disproving of the Null Hypothesis. This shows that the odds that this happened by chance is way too small."
   ]
  },
  {
   "cell_type": "code",
   "execution_count": null,
   "metadata": {},
   "outputs": [],
   "source": [
    "analysis_oscars = SummData[[\"Number Oscars Won\", \"Data Set\"]]\n",
    "analysis_oscars.head(100)"
   ]
  },
  {
   "cell_type": "code",
   "execution_count": null,
   "metadata": {},
   "outputs": [],
   "source": [
    "oscar_season_df = analysis_oscars[analysis_oscars[\"Data Set\"] == 'Oscar Season']\n",
    "oscar_season_df = oscar_season_df.rename(columns={\"Data Set\": \"Release_Group\",\n",
    "                                            \"Number Oscars Won\": \"Oscars\"\n",
    "                                      })\n",
    "oscar_season_df.head()"
   ]
  },
  {
   "cell_type": "code",
   "execution_count": null,
   "metadata": {},
   "outputs": [],
   "source": [
    "non_oscar_season_df = analysis_oscars[analysis_oscars[\"Data Set\"] != 'Oscar Season']\n",
    "non_oscar_season_df = non_oscar_season_df.rename(columns={\"Data Set\": \"Release_Group\",\n",
    "                                            \"Number Oscars Won\": \"Oscars\"\n",
    "                                      })\n",
    "non_oscar_season_df.head()"
   ]
  },
  {
   "cell_type": "code",
   "execution_count": null,
   "metadata": {},
   "outputs": [],
   "source": [
    "# Calculate Pvalue for Box Office Wins using the t-test\n",
    "sts.ttest_ind(oscar_season_df.Oscars, non_oscar_season_df.Oscars, equal_var=False)"
   ]
  },
  {
   "cell_type": "markdown",
   "metadata": {},
   "source": [
    "The pvalue is way lower that .05 so we can say that this proves the Hypothesis due to the disproving of the Null Hypothesis. This shows that the odds that this happened by chance is way too small."
   ]
  },
  {
   "cell_type": "code",
   "execution_count": null,
   "metadata": {},
   "outputs": [],
   "source": [
    "#Jason's code ends here"
   ]
  },
  {
   "cell_type": "code",
   "execution_count": null,
   "metadata": {},
   "outputs": [],
   "source": [
    "#Marianne's code starts here"
   ]
  },
  {
   "cell_type": "code",
   "execution_count": null,
   "metadata": {},
   "outputs": [],
   "source": [
    "# Total Number of Oscars Won by Data Group (Time of Year) Bar Chart - Marianne\n",
    "\n",
    "\n",
    "# SummData.head()\n",
    "\n",
    "Oscar_Time_of_Year = SummData.groupby(\"Data Set\").agg({\"Data Set\":\"count\",\"Number Oscars Won\":\"sum\"})\n",
    "Oscar_Time_of_Year.columns.values[0] = \"Number of Movies\"\n",
    "\n",
    "allMovies = Oscar_Time_of_Year[\"Number of Movies\"].sum()\n",
    "allOscars = Oscar_Time_of_Year[\"Number Oscars Won\"].sum()\n",
    "\n",
    "Oscar_Time_of_Year[\"% of All Movies\"] = Oscar_Time_of_Year[\"Number of Movies\"] / allMovies * 100\n",
    "\n",
    "Oscar_Time_of_Year[\"% of All Oscars\"] = Oscar_Time_of_Year[\"Number Oscars Won\"] / allOscars * 100\n",
    "\n",
    "\n",
    "Oscar_Time_of_Year\n",
    "\n",
    "\n",
    "\n",
    "# Summary_df = SummData.groupby(\"Data Set\").agg({'Title':'count', \n",
    "#                                                 'Infl. Adj. Dom. Box Office':'mean'#, \n",
    "#                                                 #'Oscars Won':'count' \n",
    "#                                               })\n",
    "\n"
   ]
  },
  {
   "cell_type": "code",
   "execution_count": null,
   "metadata": {},
   "outputs": [],
   "source": [
    "ind = np.arange(len(Oscar_Time_of_Year))\n",
    "width = 0.4\n",
    "\n",
    "fig, ax = plt.subplots()\n",
    "ax.barh(ind, Oscar_Time_of_Year['Number Oscars Won'], width, color='gold', label='Oscars Won')\n",
    "ax.barh(ind + width, Oscar_Time_of_Year['Number of Movies'], width, color='blue', label='Total Movies Released')\n",
    "\n",
    "\n",
    "ax.set(yticks=ind + width, yticklabels=Oscar_Time_of_Year.index.values, ylim=[2*width - 1, len(Oscar_Time_of_Year)])\n",
    "ax.legend()\n",
    "ax.set_title('Oscars and Movies Released by Time of Year')\n",
    "plt.ylabel(\"Time of Year\")\n",
    "plt.xlabel(\"Time of Year\")\n",
    "plt.show()\n"
   ]
  },
  {
   "cell_type": "markdown",
   "metadata": {},
   "source": [
    "The highest proportion of Oscars Won is from movies released during Oscar Season, however this doesn't really paint an accurate picture. Comparing the raw number of movies doesn't tell the whole story - seeing the relative proportion of movies in each category tells a better story. (See below.)"
   ]
  },
  {
   "cell_type": "code",
   "execution_count": null,
   "metadata": {},
   "outputs": [],
   "source": [
    "ind = np.arange(len(Oscar_Time_of_Year))\n",
    "width = 0.4\n",
    "\n",
    "fig, ax = plt.subplots()\n",
    "ax.barh(ind, Oscar_Time_of_Year['% of All Oscars'], width, color='gold', label='% of All Oscars Won')\n",
    "ax.barh(ind + width, Oscar_Time_of_Year['% of All Movies'], width, color='blue', label='% All Movies Released')\n",
    "\n",
    "\n",
    "ax.set(yticks=ind + width, yticklabels=Oscar_Time_of_Year.index.values, ylim=[2*width - 1, len(Oscar_Time_of_Year)])\n",
    "ax.legend()\n",
    "ax.set_title('Oscars and Movies Released by Time of Year')\n",
    "plt.ylabel(\"Time of Year\")\n",
    "plt.xlabel(\"Percentage of Movies\")\n",
    "plt.show()"
   ]
  },
  {
   "cell_type": "markdown",
   "metadata": {},
   "source": [
    "Comparing the percentages is a better way to see the picture of Oscar success based on time of year. 53.8% of all Oscar winners are released during Oscar season, but only 27.7% of all movies come out during that time of year, meaning movies released during Oscar season are far more likely to win awards. It's also interesting to note that, while Summer Blockbusters win fewer awards than we would expect if time of year didn't matter, it's the second most likely release timeframe for awards."
   ]
  },
  {
   "cell_type": "code",
   "execution_count": null,
   "metadata": {},
   "outputs": [],
   "source": [
    "# Scatterplot of IMDB ratings vs. oscars won (for the top oscar winners) - with regression line - Marianne\n",
    "\n",
    "x_values = SummData['Number Oscars Won']\n",
    "y_values = SummData['IMDB']\n",
    "\n",
    "(slope, intercept, rvalue, pvalue, stderr) = sts.linregress(x_values, y_values)\n",
    "regress_values = x_values * slope + intercept\n",
    "\n",
    "#create plot\n",
    "plt.figure(figsize=(6, 4), dpi=80)\n",
    "plt.scatter(x_values, y_values)\n",
    "plt.plot(x_values, regress_values, \"r-\")\n",
    "\n",
    "#create line equation and annotate\n",
    "line_eq = \"y = \" + str(round(slope,2)) + \"x + \" + str(round(intercept,2))\n",
    "plt.annotate(line_eq, (x_values.min(), y_values.min()), fontsize=15,color=\"red\")\n",
    "\n",
    "#label the axes and create title\n",
    "plt.xlabel(\"Number of Oscars Won\")\n",
    "plt.ylabel(\"Average IMDB Rating\")\n",
    "plt.title(\"Average IMDB Rating vs Oscars Won\")\n",
    "\n",
    "#calculate and print r squared to determine strength of correlation\n",
    "print(f'The r-squared is: {rvalue**2}')\n",
    "\n",
    "plt.show()"
   ]
  },
  {
   "cell_type": "markdown",
   "metadata": {},
   "source": [
    "Based on this regression line and the r-squared, there doesn't appear to be a correlation between awards won and viewer rating. While there aren't many movies winning Oscars with low ratings, there is a large number of highly rated movies winning no Oscars."
   ]
  },
  {
   "cell_type": "code",
   "execution_count": null,
   "metadata": {},
   "outputs": [],
   "source": [
    "# Scatterplot of metaScore ratings vs. oscars won (for the top oscar winners) - with regression line - Marianne\n",
    "\n",
    "metaScore = SummData.dropna(subset=['Metascore'])\n",
    "\n",
    "x_values = metaScore['Number Oscars Won']\n",
    "y_values = metaScore['Metascore']\n",
    "\n",
    "(slope, intercept, rvalue, pvalue, stderr) = sts.linregress(x_values, y_values)\n",
    "regress_values = x_values * slope + intercept\n",
    "\n",
    "#create plot\n",
    "plt.figure(figsize=(6, 4), dpi=80)\n",
    "plt.scatter(x_values, y_values)\n",
    "plt.plot(x_values, regress_values, \"r-\")\n",
    "\n",
    "#create line equation and annotate\n",
    "line_eq = \"y = \" + str(round(slope,2)) + \"x + \" + str(round(intercept,2))\n",
    "plt.annotate(line_eq, (x_values.min(), y_values.min()), fontsize=15,color=\"red\")\n",
    "\n",
    "#label the axes and create title\n",
    "plt.xlabel(\"Number of Oscars Won\")\n",
    "plt.ylabel(\"Metascore\")\n",
    "plt.title(\"Metascore Rating vs Oscars Won\")\n",
    "\n",
    "#calculate and print r squared to determine strength of correlation\n",
    "print(f'The r-squared is: {rvalue**2}')\n",
    "\n",
    "plt.show()"
   ]
  },
  {
   "cell_type": "markdown",
   "metadata": {},
   "source": [
    "With an r-squared of .168, there is little correlation between critical ratings and Oscar success. "
   ]
  },
  {
   "cell_type": "code",
   "execution_count": null,
   "metadata": {},
   "outputs": [],
   "source": [
    "# Scatter Plot of box office vs number of oscars won\n",
    "\n",
    "x_values = SummData['Number Oscars Won']\n",
    "y_values = SummData['Infl. Adj. Dom. Box Office']\n",
    "\n",
    "(slope, intercept, rvalue, pvalue, stderr) = sts.linregress(x_values, y_values)\n",
    "regress_values = x_values * slope + intercept\n",
    "\n",
    "#create plot\n",
    "plt.figure(figsize=(6, 4), dpi=80)\n",
    "plt.scatter(x_values, y_values)\n",
    "plt.plot(x_values, regress_values, \"r-\")\n",
    "\n",
    "#create line equation and annotate\n",
    "line_eq = \"y = \" + str(round(slope,2)) + \"x + \" + str(round(intercept,2))\n",
    "plt.annotate(line_eq, (x_values.min(), y_values.min()), fontsize=15,color=\"red\")\n",
    "\n",
    "#label the axes and create title\n",
    "plt.xlabel(\"Number of Oscars Won\")\n",
    "plt.ylabel(\"Inflation Adjusted Domestic Box Office (Millions of Dollars)\")\n",
    "plt.title(\"Box Office vs Oscars Won\")\n",
    "\n",
    "#calculate and print r squared to determine strength of correlation\n",
    "print(f'The r-squared is: {rvalue**2}')\n",
    "\n",
    "plt.show()"
   ]
  },
  {
   "cell_type": "markdown",
   "metadata": {},
   "source": [
    "This regression shows that there is no real correlation between box office success and awards won, as the r-squared is .054, even lower than the other regressions run on Oscars."
   ]
  },
  {
   "cell_type": "code",
   "execution_count": null,
   "metadata": {},
   "outputs": [],
   "source": [
    "OscarsOnly_df = SummData.loc[SummData['Oscars Won'] == 'Yes']\n",
    "\n",
    "OscarMoney = OscarsOnly_df['Infl. Adj. Dom. Box Office']\n",
    "\n",
    "\n",
    "NoOscars_df = SummData.loc[SummData['Oscars Won'] == 'No']\n",
    "    \n",
    "OscarlessMoney = NoOscars_df['Infl. Adj. Dom. Box Office']\n",
    "    \n"
   ]
  },
  {
   "cell_type": "code",
   "execution_count": null,
   "metadata": {},
   "outputs": [],
   "source": [
    "# Create a box plot comparing the box office of oscar winners vs. non winners\n",
    "\n",
    "#Create the list of all movies\n",
    "allMovies = [OscarMoney, OscarlessMoney]\n",
    "\n",
    "#plot the data\n",
    "fig, ax = plt.subplots()\n",
    "ax.boxplot(allMovies)\n",
    "\n",
    "# change outlier point symbols\n",
    "ax.boxplot(allMovies, 0, 'x')\n",
    "\n",
    "#label the graph\n",
    "ax.set_xticklabels(['Oscar Winners', 'No Oscars'])\n",
    "ax.set_ylabel('Inflation Adjusted Domestic Box Office (Millions of Dollars)')\n",
    "ax.set_title('Box Office by Oscar Winner Status')\n",
    "\n",
    "plt.show()"
   ]
  },
  {
   "cell_type": "code",
   "execution_count": null,
   "metadata": {},
   "outputs": [],
   "source": [
    "#Marianne's code ends here"
   ]
  }
 ],
 "metadata": {
  "kernelspec": {
   "display_name": "Python 3",
   "language": "python",
   "name": "python3"
  },
  "language_info": {
   "codemirror_mode": {
    "name": "ipython",
    "version": 3
   },
   "file_extension": ".py",
   "mimetype": "text/x-python",
   "name": "python",
   "nbconvert_exporter": "python",
   "pygments_lexer": "ipython3",
   "version": "3.6.10"
  }
 },
 "nbformat": 4,
 "nbformat_minor": 4
}
