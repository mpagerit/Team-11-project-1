{
 "cells": [
  {
   "cell_type": "code",
   "execution_count": null,
   "metadata": {},
   "outputs": [],
   "source": [
    "#John's Code Start's Here"
   ]
  },
  {
   "cell_type": "code",
   "execution_count": null,
   "metadata": {},
   "outputs": [],
   "source": [
    "# Dependencies\n",
    "import pandas as pd\n",
    "import matplotlib.pyplot as plt\n",
    "import scipy.stats as sts\n",
    "import numpy as np\n",
    "\n",
    "#Load Data\n",
    "TheData_df = pd.read_csv('DataFiles/FINAL_CLEANED_DF.csv')\n",
    "Data = TheData_df\n",
    "\n",
    "#Run .Head()\n",
    "Data.head()"
   ]
  },
  {
   "cell_type": "code",
   "execution_count": null,
   "metadata": {},
   "outputs": [],
   "source": [
    "#Group By Year\n",
    "# YearReleased = Data.groupby('Year Released (Domestic)')\n",
    "# CountYR = YearReleased['Year Released (Domestic)'].count()\n",
    "# CountYR\n",
    "\n",
    "#I don't think we need to go through data year over year. The difference is \n",
    "    #5 data sets vs 5*40 data sets \n",
    "    \n",
    "#This is useful to check if we have all of our data"
   ]
  },
  {
   "cell_type": "code",
   "execution_count": null,
   "metadata": {},
   "outputs": [],
   "source": [
    "#Define Data Set Groups\n",
    "d = {'Month Released (Domestic)': [1, 2, 3, 4, 5, 6, 7, 8, 9, 10, 11, 12], \n",
    "     'Data Set': ['Winter Dump Months', \n",
    "                    'Winter Dump Months', \n",
    "                    'Other Months', \n",
    "                    'Other Months', \n",
    "                    'Summer Blockbusters',\n",
    "                    'Summer Blockbusters',\n",
    "                    'Summer Blockbusters',\n",
    "                    'Summer Dump Months',\n",
    "                    'Summer Dump Months',\n",
    "                    'Other Months',\n",
    "                    'Oscar Season',\n",
    "                    'Oscar Season',\n",
    "                   ]}\n",
    "DataSets_df = pd.DataFrame(data=d)\n",
    "DataSets_df"
   ]
  },
  {
   "cell_type": "code",
   "execution_count": null,
   "metadata": {},
   "outputs": [],
   "source": [
    "SummData = pd.merge(Data, DataSets_df, \n",
    "                      how=\"left\", on='Month Released (Domestic)')\n",
    "SummData.head()"
   ]
  },
  {
   "cell_type": "code",
   "execution_count": null,
   "metadata": {},
   "outputs": [],
   "source": [
    "Summary_df = SummData.groupby(\"Data Set\").agg({'Title':'count', \n",
    "                                                'Infl. Adj. Dom. Box Office':'mean'#, \n",
    "                                                #'Oscars Won':'count' \n",
    "                                              })\n",
    "\n",
    "Summary_df.head()"
   ]
  },
  {
   "cell_type": "code",
   "execution_count": null,
   "metadata": {},
   "outputs": [],
   "source": [
    "#Make Box Office Look Good\n",
    "Summary_df['Infl. Adj. Dom. Box Office'] = Summary_df[\n",
    "    'Infl. Adj. Dom. Box Office'].astype(\n",
    "     float).map(\"${:,.2f}\".format)\n",
    "\n",
    "Summary_df\n",
    "#Need to add Average to \"Inflation Adjusted Box Office\""
   ]
  },
  {
   "cell_type": "code",
   "execution_count": null,
   "metadata": {},
   "outputs": [],
   "source": [
    "labels = ['Oscar Season', 'Other Months', 'Summer Blockbusters', \n",
    "          'Summer Dump Months', 'Winter Dump Months']\n",
    "titlecount = Summary_df['Title']\n",
    "\n",
    "\n",
    "x_axis = np.arange(len(labels))  # the label locations\n",
    "\n",
    "\n",
    "plt.bar(x, titlecount, color='r', align='center')\n",
    "\n",
    "ticks = [value for value in x_axis]\n",
    "plt.xticks(ticks, labels, rotation=45)\n",
    "\n",
    "# Set textual properties\n",
    "plt.title(\"Number of Top 40 Movies Since 1980\")\n",
    "plt.ylabel(\"Count of Movies\")\n",
    "plt.xlabel(\"Season\")\n",
    "plt.tight_layout()\n",
    "plt.show()\n",
    "\n"
   ]
  },
  {
   "cell_type": "code",
   "execution_count": null,
   "metadata": {},
   "outputs": [],
   "source": []
  },
  {
   "cell_type": "code",
   "execution_count": null,
   "metadata": {},
   "outputs": [],
   "source": [
    "#John's code ends here"
   ]
  },
  {
   "cell_type": "code",
   "execution_count": null,
   "metadata": {},
   "outputs": [],
   "source": [
    "#Nicole's code starts here"
   ]
  },
  {
   "cell_type": "code",
   "execution_count": null,
   "metadata": {},
   "outputs": [],
   "source": [
    "#Nicole's code ends here"
   ]
  },
  {
   "cell_type": "code",
   "execution_count": null,
   "metadata": {},
   "outputs": [],
   "source": [
    "#Jason's code starts here"
   ]
  },
  {
   "cell_type": "code",
   "execution_count": null,
   "metadata": {},
   "outputs": [],
   "source": [
    "#Jason's code ends here"
   ]
  },
  {
   "cell_type": "code",
   "execution_count": null,
   "metadata": {},
   "outputs": [],
   "source": [
    "#Marianne's code starts here"
   ]
  },
  {
   "cell_type": "code",
   "execution_count": null,
   "metadata": {},
   "outputs": [],
   "source": [
    "# Total Number of Oscars Won by Data Group (Time of Year) Bar Chart - Marianne\n",
    "\n",
    "\n",
    "# SummData.head()\n",
    "\n",
    "Oscar_Time_of_Year = SummData.groupby(\"Data Set\").agg({\"Data Set\":\"count\",\"Number Oscars Won\":\"sum\"})\n",
    "Oscar_Time_of_Year.columns.values[0] = \"Number of Movies\"\n",
    "\n",
    "allMovies = Oscar_Time_of_Year[\"Number of Movies\"].sum()\n",
    "allOscars = Oscar_Time_of_Year[\"Number Oscars Won\"].sum()\n",
    "\n",
    "Oscar_Time_of_Year[\"% of All Movies\"] = Oscar_Time_of_Year[\"Number of Movies\"] / allMovies * 100\n",
    "\n",
    "Oscar_Time_of_Year[\"% of All Oscars\"] = Oscar_Time_of_Year[\"Number Oscars Won\"] / allOscars * 100\n",
    "\n",
    "\n",
    "Oscar_Time_of_Year\n",
    "\n",
    "\n",
    "\n",
    "# Summary_df = SummData.groupby(\"Data Set\").agg({'Title':'count', \n",
    "#                                                 'Infl. Adj. Dom. Box Office':'mean'#, \n",
    "#                                                 #'Oscars Won':'count' \n",
    "#                                               })\n",
    "\n"
   ]
  },
  {
   "cell_type": "code",
   "execution_count": null,
   "metadata": {},
   "outputs": [],
   "source": [
    "ind = np.arange(len(Oscar_Time_of_Year))\n",
    "width = 0.4\n",
    "\n",
    "fig, ax = plt.subplots()\n",
    "ax.barh(ind, Oscar_Time_of_Year['Number Oscars Won'], width, color='gold', label='Oscars Won')\n",
    "ax.barh(ind + width, Oscar_Time_of_Year['Number of Movies'], width, color='blue', label='Total Movies Released')\n",
    "\n",
    "\n",
    "ax.set(yticks=ind + width, yticklabels=Oscar_Time_of_Year.index.values, ylim=[2*width - 1, len(Oscar_Time_of_Year)])\n",
    "ax.legend()\n",
    "ax.set_title('Oscars and Movies Released by Time of Year')\n",
    "plt.ylabel(\"Time of Year\")\n",
    "plt.xlabel(\"Time of Year\")\n",
    "plt.show()\n"
   ]
  },
  {
   "cell_type": "code",
   "execution_count": null,
   "metadata": {},
   "outputs": [],
   "source": [
    "ind = np.arange(len(Oscar_Time_of_Year))\n",
    "width = 0.4\n",
    "\n",
    "fig, ax = plt.subplots()\n",
    "ax.barh(ind, Oscar_Time_of_Year['% of All Oscars'], width, color='gold', label='% of All Oscars Won')\n",
    "ax.barh(ind + width, Oscar_Time_of_Year['% of All Movies'], width, color='blue', label='% All Movies Released')\n",
    "\n",
    "\n",
    "ax.set(yticks=ind + width, yticklabels=Oscar_Time_of_Year.index.values, ylim=[2*width - 1, len(Oscar_Time_of_Year)])\n",
    "ax.legend()\n",
    "ax.set_title('Oscars and Movies Released by Time of Year')\n",
    "plt.ylabel(\"Time of Year\")\n",
    "plt.xlabel(\"Percentage of Movies\")\n",
    "plt.show()"
   ]
  },
  {
   "cell_type": "code",
   "execution_count": null,
   "metadata": {},
   "outputs": [],
   "source": [
    "# Scatterplot of IMDB ratings vs. oscars won (for the top oscar winners) - with regression line - Marianne\n",
    "\n",
    "x_values = SummData['Number Oscars Won']\n",
    "y_values = SummData['IMDB']\n",
    "\n",
    "(slope, intercept, rvalue, pvalue, stderr) = sts.linregress(x_values, y_values)\n",
    "regress_values = x_values * slope + intercept\n",
    "\n",
    "#create plot\n",
    "plt.figure(figsize=(6, 4), dpi=80)\n",
    "plt.scatter(x_values, y_values)\n",
    "plt.plot(x_values, regress_values, \"r-\")\n",
    "\n",
    "#create line equation and annotate\n",
    "line_eq = \"y = \" + str(round(slope,2)) + \"x + \" + str(round(intercept,2))\n",
    "plt.annotate(line_eq, (x_values.min(), y_values.min()), fontsize=15,color=\"red\")\n",
    "\n",
    "#label the axes and create title\n",
    "plt.xlabel(\"Number of Oscars Won\")\n",
    "plt.ylabel(\"Average IMDB Rating\")\n",
    "plt.title(\"Average IMDB Rating vs Oscars Won\")\n",
    "\n",
    "#calculate and print r squared to determine strength of correlation\n",
    "print(f'The r-squared is: {rvalue**2}')\n",
    "\n",
    "plt.show()"
   ]
  },
  {
   "cell_type": "code",
   "execution_count": null,
   "metadata": {},
   "outputs": [],
   "source": [
    "# Scatterplot of metaScore ratings vs. oscars won (for the top oscar winners) - with regression line - Marianne\n",
    "\n",
    "metaScore = SummData.dropna(subset=['Metascore'])\n",
    "\n",
    "x_values = metaScore['Number Oscars Won']\n",
    "y_values = metaScore['Metascore']\n",
    "\n",
    "(slope, intercept, rvalue, pvalue, stderr) = sts.linregress(x_values, y_values)\n",
    "regress_values = x_values * slope + intercept\n",
    "\n",
    "#create plot\n",
    "plt.figure(figsize=(6, 4), dpi=80)\n",
    "plt.scatter(x_values, y_values)\n",
    "plt.plot(x_values, regress_values, \"r-\")\n",
    "\n",
    "#create line equation and annotate\n",
    "line_eq = \"y = \" + str(round(slope,2)) + \"x + \" + str(round(intercept,2))\n",
    "plt.annotate(line_eq, (x_values.min(), y_values.min()), fontsize=15,color=\"red\")\n",
    "\n",
    "#label the axes and create title\n",
    "plt.xlabel(\"Number of Oscars Won\")\n",
    "plt.ylabel(\"Metascore\")\n",
    "plt.title(\"Metascore Rating vs Oscars Won\")\n",
    "\n",
    "#calculate and print r squared to determine strength of correlation\n",
    "print(f'The r-squared is: {rvalue**2}')\n",
    "\n",
    "plt.show()"
   ]
  },
  {
   "cell_type": "code",
   "execution_count": null,
   "metadata": {},
   "outputs": [],
   "source": [
    "# Scatter Plot of box office vs number of oscars won\n",
    "\n",
    "x_values = SummData['Number Oscars Won']\n",
    "y_values = SummData['Infl. Adj. Dom. Box Office']\n",
    "\n",
    "(slope, intercept, rvalue, pvalue, stderr) = sts.linregress(x_values, y_values)\n",
    "regress_values = x_values * slope + intercept\n",
    "\n",
    "#create plot\n",
    "plt.figure(figsize=(6, 4), dpi=80)\n",
    "plt.scatter(x_values, y_values)\n",
    "plt.plot(x_values, regress_values, \"r-\")\n",
    "\n",
    "#create line equation and annotate\n",
    "line_eq = \"y = \" + str(round(slope,2)) + \"x + \" + str(round(intercept,2))\n",
    "plt.annotate(line_eq, (x_values.min(), y_values.min()), fontsize=15,color=\"red\")\n",
    "\n",
    "#label the axes and create title\n",
    "plt.xlabel(\"Number of Oscars Won\")\n",
    "plt.ylabel(\"Inflation Adjusted Domestic Box Office (Millions of Dollars)\")\n",
    "plt.title(\"Box Office vs Oscars Won\")\n",
    "\n",
    "#calculate and print r squared to determine strength of correlation\n",
    "print(f'The r-squared is: {rvalue**2}')\n",
    "\n",
    "plt.show()"
   ]
  },
  {
   "cell_type": "code",
   "execution_count": null,
   "metadata": {},
   "outputs": [],
   "source": []
  },
  {
   "cell_type": "code",
   "execution_count": null,
   "metadata": {},
   "outputs": [],
   "source": [
    "#Marianne's code ends here"
   ]
  }
 ],
 "metadata": {
  "kernelspec": {
   "display_name": "Python 3",
   "language": "python",
   "name": "python3"
  },
  "language_info": {
   "codemirror_mode": {
    "name": "ipython",
    "version": 3
   },
   "file_extension": ".py",
   "mimetype": "text/x-python",
   "name": "python",
   "nbconvert_exporter": "python",
   "pygments_lexer": "ipython3",
   "version": "3.6.10"
  }
 },
 "nbformat": 4,
 "nbformat_minor": 4
}
