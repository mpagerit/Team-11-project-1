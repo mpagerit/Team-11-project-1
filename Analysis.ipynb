{
 "cells": [
  {
   "cell_type": "code",
   "execution_count": null,
   "metadata": {},
   "outputs": [],
   "source": [
    "#John's Code Start's Here"
   ]
  },
  {
   "cell_type": "code",
   "execution_count": null,
   "metadata": {},
   "outputs": [],
   "source": [
    "# Dependencies\n",
    "import pandas as pd\n",
    "import matplotlib.pyplot as plt\n",
    "import scipy.stats as sts\n",
    "import numpy as np\n",
    "\n",
    "#Load Data\n",
    "TheData_df = pd.read_csv('DataFiles/FINAL_CLEANED_DF.csv')\n",
    "Data = TheData_df\n",
    "\n",
    "#Run .Head()\n",
    "Data.head()"
   ]
  },
  {
   "cell_type": "code",
   "execution_count": null,
   "metadata": {},
   "outputs": [],
   "source": [
    "#Group By Year\n",
    "# YearReleased = Data.groupby('Year Released (Domestic)')\n",
    "# CountYR = YearReleased['Year Released (Domestic)'].count()\n",
    "# CountYR\n",
    "\n",
    "#I don't think we need to go through data year over year. The difference is \n",
    "    #5 data sets vs 5*40 data sets \n",
    "    \n",
    "#This is useful to check if we have all of our data"
   ]
  },
  {
   "cell_type": "code",
   "execution_count": null,
   "metadata": {},
   "outputs": [],
   "source": [
    "#Define Data Set Groups\n",
    "d = {'Month Released (Domestic)': [1, 2, 3, 4, 5, 6, 7, 8, 9, 10, 11, 12], \n",
    "     'Data Set': ['Winter Dump Months', \n",
    "                    'Winter Dump Months', \n",
    "                    'Other Months', \n",
    "                    'Other Months', \n",
    "                    'Summer Blockbusters',\n",
    "                    'Summer Blockbusters',\n",
    "                    'Summer Blockbusters',\n",
    "                    'Summer Dump Months',\n",
    "                    'Summer Dump Months',\n",
    "                    'Other Months',\n",
    "                    'Oscar Season',\n",
    "                    'Oscar Season',\n",
    "                   ]}\n",
    "DataSets_df = pd.DataFrame(data=d)\n",
    "DataSets_df"
   ]
  },
  {
   "cell_type": "code",
   "execution_count": null,
   "metadata": {},
   "outputs": [],
   "source": [
    "SummData = pd.merge(Data, DataSets_df, \n",
    "                      how=\"left\", on='Month Released (Domestic)')\n",
    "SummData.head()"
   ]
  },
  {
   "cell_type": "code",
   "execution_count": null,
   "metadata": {},
   "outputs": [],
   "source": [
    "Summary_df = SummData.groupby(\"Data Set\").agg({'Title':'count', \n",
    "                                                'Infl. Adj. Dom. Box Office':'mean'#, \n",
    "                                                #'Oscars Won':'count' \n",
    "                                              })\n",
    "\n",
    "Summary_df.head()"
   ]
  },
  {
   "cell_type": "code",
   "execution_count": null,
   "metadata": {},
   "outputs": [],
   "source": [
    "#Make Box Office Look Good\n",
    "Summary_df['Infl. Adj. Dom. Box Office'] = Summary_df[\n",
    "    'Infl. Adj. Dom. Box Office'].astype(\n",
    "     float).map(\"${:,.2f}\".format)\n",
    "\n",
    "Summary_df\n",
    "#Need to add Average to \"Inflation Adjusted Box Office\""
   ]
  },
  {
   "cell_type": "code",
   "execution_count": null,
   "metadata": {},
   "outputs": [],
   "source": [
    "labels = ['Oscar Season', 'Other Months', 'Summer Blockbusters', \n",
    "          'Summer Dump Months', 'Winter Dump Months']\n",
    "titlecount = Summary_df['Title']\n",
    "\n",
    "\n",
    "x_axis = np.arange(len(labels))  # the label locations\n",
    "\n",
    "\n",
    "plt.bar(x, titlecount, color='r', align='center')\n",
    "\n",
    "ticks = [value for value in x_axis]\n",
    "plt.xticks(ticks, labels, rotation=45)\n",
    "\n",
    "# Set textual properties\n",
    "plt.title(\"Number of Top 40 Movies Since 1980\")\n",
    "plt.ylabel(\"Count of Movies\")\n",
    "plt.xlabel(\"Season\")\n",
    "plt.tight_layout()\n",
    "plt.show()\n",
    "\n"
   ]
  },
  {
   "cell_type": "code",
   "execution_count": null,
   "metadata": {},
   "outputs": [],
   "source": []
  },
  {
   "cell_type": "code",
   "execution_count": null,
   "metadata": {},
   "outputs": [],
   "source": [
    "#John's code ends here"
   ]
  },
  {
   "cell_type": "code",
   "execution_count": null,
   "metadata": {},
   "outputs": [],
   "source": [
    "#Nicole's code starts here"
   ]
  },
  {
   "cell_type": "code",
   "execution_count": null,
   "metadata": {},
   "outputs": [],
   "source": [
    "#Nicole's code ends here"
   ]
  },
  {
   "cell_type": "code",
   "execution_count": null,
   "metadata": {},
   "outputs": [],
   "source": [
    "#Jason's code starts here"
   ]
  },
  {
   "cell_type": "code",
   "execution_count": null,
   "metadata": {
    "scrolled": false
   },
   "outputs": [],
   "source": [
    "SummData.head(5)"
   ]
  },
  {
   "cell_type": "code",
   "execution_count": null,
   "metadata": {},
   "outputs": [],
   "source": [
    "analysis_box_office = SummData[[\"Year Released (Domestic)\", \"Infl. Adj. Dom. Box Office\", \"Data Set\"]]\n",
    "analysis_box_office.head()"
   ]
  },
  {
   "cell_type": "code",
   "execution_count": null,
   "metadata": {},
   "outputs": [],
   "source": [
    "summer_bb = analysis_box_office[[\"Infl. Adj. Dom. Box Office\", \"Data Set\"]]\n",
    "summer_bb.head()"
   ]
  },
  {
   "cell_type": "code",
   "execution_count": null,
   "metadata": {},
   "outputs": [],
   "source": [
    "summerbb_df = summer_bb[summer_bb[\"Data Set\"] == 'Summer Blockbusters']\n",
    "summerbb_df = summerbb_df.rename(columns={\"Data Set\": \"Release_Group\",\n",
    "                                            \"Infl. Adj. Dom. Box Office\": \"Box_office\"\n",
    "                                      })\n",
    "summerbb_df.head()"
   ]
  },
  {
   "cell_type": "code",
   "execution_count": null,
   "metadata": {},
   "outputs": [],
   "source": [
    "not_summer_df = summer_bb[summer_bb[\"Data Set\"] != 'Summer Blockbusters']\n",
    "not_summer_df = not_summer_df.rename(columns={\"Data Set\": \"Release_Group\",\n",
    "                                            \"Infl. Adj. Dom. Box Office\": \"Box_office\"\n",
    "                                     })\n",
    "not_summer_df.head()"
   ]
  },
  {
   "cell_type": "code",
   "execution_count": null,
   "metadata": {},
   "outputs": [],
   "source": [
    "# Calculate Pvalue for Box office amounts usingthe t-test\n",
    "sts.ttest_ind(summerbb_df.Box_office, not_summer_df.Box_office, equal_var=False)"
   ]
  },
  {
   "cell_type": "markdown",
   "metadata": {},
   "source": [
    "The pvalue is way lower that .05 so we can say that this proves the Hypothesis due to the disproving of the Null Hypothesis. This shows that the odds that this happened by chance is way too small."
   ]
  },
  {
   "cell_type": "code",
   "execution_count": null,
   "metadata": {},
   "outputs": [],
   "source": [
    "analysis_oscars = SummData[[\"Number Oscars Won\", \"Data Set\"]]\n",
    "analysis_oscars.head(100)"
   ]
  },
  {
   "cell_type": "code",
   "execution_count": null,
   "metadata": {},
   "outputs": [],
   "source": [
    "oscar_season_df = analysis_oscars[analysis_oscars[\"Data Set\"] == 'Oscar Season']\n",
    "oscar_season_df = oscar_season_df.rename(columns={\"Data Set\": \"Release_Group\",\n",
    "                                            \"Number Oscars Won\": \"Oscars\"\n",
    "                                      })\n",
    "oscar_season_df.head()"
   ]
  },
  {
   "cell_type": "code",
   "execution_count": null,
   "metadata": {},
   "outputs": [],
   "source": [
    "non_oscar_season_df = analysis_oscars[analysis_oscars[\"Data Set\"] != 'Oscar Season']\n",
    "non_oscar_season_df = non_oscar_season_df.rename(columns={\"Data Set\": \"Release_Group\",\n",
    "                                            \"Number Oscars Won\": \"Oscars\"\n",
    "                                      })\n",
    "non_oscar_season_df.head()"
   ]
  },
  {
   "cell_type": "code",
   "execution_count": null,
   "metadata": {},
   "outputs": [],
   "source": [
    "# Calculate Pvalue for Box Office Wins using the t-test\n",
    "sts.ttest_ind(oscar_season_df.Oscars, non_oscar_season_df.Oscars, equal_var=False)"
   ]
  },
  {
   "cell_type": "markdown",
   "metadata": {},
   "source": [
    "The pvalue is way lower that .05 so we can say that this proves the Hypothesis due to the disproving of the Null Hypothesis. This shows that the odds that this happened by chance is way too small."
   ]
  },
  {
   "cell_type": "code",
   "execution_count": null,
   "metadata": {},
   "outputs": [],
   "source": [
    "#Jason's code ends here"
   ]
  },
  {
   "cell_type": "code",
   "execution_count": null,
   "metadata": {},
   "outputs": [],
   "source": [
    "#Marianne's code starts here"
   ]
  },
  {
   "cell_type": "code",
   "execution_count": null,
   "metadata": {},
   "outputs": [],
   "source": [
    "#Marianne's code ends here"
   ]
  }
 ],
 "metadata": {
  "kernelspec": {
   "display_name": "Python 3",
   "language": "python",
   "name": "python3"
  },
  "language_info": {
   "codemirror_mode": {
    "name": "ipython",
    "version": 3
   },
   "file_extension": ".py",
   "mimetype": "text/x-python",
   "name": "python",
   "nbconvert_exporter": "python",
   "pygments_lexer": "ipython3",
   "version": "3.6.10"
  }
 },
 "nbformat": 4,
 "nbformat_minor": 4
}
