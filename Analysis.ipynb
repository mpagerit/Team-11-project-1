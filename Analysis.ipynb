{
 "cells": [
  {
   "cell_type": "code",
   "execution_count": null,
   "metadata": {},
   "outputs": [],
   "source": [
    "# Dependencies\n",
    "import pandas as pd\n",
    "import matplotlib.pyplot as plt\n",
    "import scipy.stats as sts\n",
    "import numpy as np\n",
    "\n",
    "#Load Data\n",
    "TheData_df = pd.read_csv('DataFiles/clean_test_data.csv')\n",
    "Data = TheData_df\n",
    "\n",
    "#Run .Head()\n",
    "Data.head()"
   ]
  },
  {
   "cell_type": "code",
   "execution_count": null,
   "metadata": {},
   "outputs": [],
   "source": [
    "#Group By Year\n",
    "# YearReleased = Data.groupby('Year Released (Domestic)')\n",
    "# CountYR = YearReleased['Year Released (Domestic)'].count()\n",
    "# CountYR\n",
    "\n",
    "#I don't think we need to go through data year over year. The difference is \n",
    "    #5 data sets vs 5*40 data sets \n",
    "    \n",
    "#This is useful to check if we have all of our data"
   ]
  },
  {
   "cell_type": "code",
   "execution_count": null,
   "metadata": {},
   "outputs": [],
   "source": [
    "#Define Data Set Groups\n",
    "d = {'Month Released (Domestic)': [1, 2, 3, 4, 5, 6, 7, 8, 9, 10, 11, 12], \n",
    "     'Data Set': ['Winter Dump Months', \n",
    "                    'Winter Dump Months', \n",
    "                    'Other Months', \n",
    "                    'Other Months', \n",
    "                    'Summer Blockbusters',\n",
    "                    'Summer Blockbusters',\n",
    "                    'Summer Blockbusters',\n",
    "                    'Summer Dump Months',\n",
    "                    'Summer Dump Months',\n",
    "                    'Other Months',\n",
    "                    'Oscar Season',\n",
    "                    'Oscar Season',\n",
    "                   ]}\n",
    "DataSets_df = pd.DataFrame(data=d)\n",
    "DataSets_df"
   ]
  },
  {
   "cell_type": "code",
   "execution_count": null,
   "metadata": {},
   "outputs": [],
   "source": [
    "SummData = pd.merge(Data, DataSets_df, \n",
    "                      how=\"left\", on='Month Released (Domestic)')\n",
    "SummData.head()"
   ]
  },
  {
   "cell_type": "code",
   "execution_count": null,
   "metadata": {},
   "outputs": [],
   "source": [
    "Summary_df = SummData.groupby(\"Data Set\").agg({'Title':'count', \n",
    "                                                'Infl. Adj. Dom. Box Office':'mean'#, \n",
    "                                                #'Oscars Won':'count' \n",
    "                                              })\n",
    "\n",
    "Summary_df.head()"
   ]
  },
  {
   "cell_type": "code",
   "execution_count": null,
   "metadata": {},
   "outputs": [],
   "source": [
    "#Make Box Office Look Good\n",
    "Summary_df['Infl. Adj. Dom. Box Office'] = Summary_df[\n",
    "    'Infl. Adj. Dom. Box Office'].astype(\n",
    "     float).map(\"${:,.2f}\".format)\n",
    "\n",
    "Summary_df"
   ]
  },
  {
   "cell_type": "code",
   "execution_count": null,
   "metadata": {},
   "outputs": [],
   "source": [
    "\n"
   ]
  },
  {
   "cell_type": "code",
   "execution_count": null,
   "metadata": {},
   "outputs": [],
   "source": []
  },
  {
   "cell_type": "code",
   "execution_count": null,
   "metadata": {},
   "outputs": [],
   "source": []
  },
  {
   "cell_type": "code",
   "execution_count": null,
   "metadata": {
    "scrolled": true
   },
   "outputs": [],
   "source": []
  },
  {
   "cell_type": "code",
   "execution_count": null,
   "metadata": {},
   "outputs": [],
   "source": []
  },
  {
   "cell_type": "code",
   "execution_count": null,
   "metadata": {},
   "outputs": [],
   "source": []
  },
  {
   "cell_type": "code",
   "execution_count": null,
   "metadata": {},
   "outputs": [],
   "source": []
  },
  {
   "cell_type": "code",
   "execution_count": null,
   "metadata": {},
   "outputs": [],
   "source": []
  }
 ],
 "metadata": {
  "kernelspec": {
   "display_name": "Python 3",
   "language": "python",
   "name": "python3"
  },
  "language_info": {
   "codemirror_mode": {
    "name": "ipython",
    "version": 3
   },
   "file_extension": ".py",
   "mimetype": "text/x-python",
   "name": "python",
   "nbconvert_exporter": "python",
   "pygments_lexer": "ipython3",
   "version": "3.6.10"
  }
 },
 "nbformat": 4,
 "nbformat_minor": 4
}
